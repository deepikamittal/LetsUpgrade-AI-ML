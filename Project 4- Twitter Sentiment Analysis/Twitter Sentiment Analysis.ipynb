{
 "cells": [
  {
   "cell_type": "code",
   "execution_count": 1,
   "metadata": {},
   "outputs": [
    {
     "name": "stdout",
     "output_type": "stream",
     "text": [
      "Requirement already satisfied: tweepy in c:\\programdata\\anaconda3\\lib\\site-packages (3.9.0)\n",
      "Requirement already satisfied: six>=1.10.0 in c:\\programdata\\anaconda3\\lib\\site-packages (from tweepy) (1.15.0)\n",
      "Requirement already satisfied: requests-oauthlib>=0.7.0 in c:\\programdata\\anaconda3\\lib\\site-packages (from tweepy) (1.3.0)\n",
      "Requirement already satisfied: requests[socks]>=2.11.1 in c:\\programdata\\anaconda3\\lib\\site-packages (from tweepy) (2.24.0)\n",
      "Requirement already satisfied: oauthlib>=3.0.0 in c:\\programdata\\anaconda3\\lib\\site-packages (from requests-oauthlib>=0.7.0->tweepy) (3.1.0)\n",
      "Requirement already satisfied: certifi>=2017.4.17 in c:\\programdata\\anaconda3\\lib\\site-packages (from requests[socks]>=2.11.1->tweepy) (2020.6.20)\n",
      "Requirement already satisfied: idna<3,>=2.5 in c:\\programdata\\anaconda3\\lib\\site-packages (from requests[socks]>=2.11.1->tweepy) (2.10)\n",
      "Requirement already satisfied: chardet<4,>=3.0.2 in c:\\programdata\\anaconda3\\lib\\site-packages (from requests[socks]>=2.11.1->tweepy) (3.0.4)\n",
      "Requirement already satisfied: urllib3!=1.25.0,!=1.25.1,<1.26,>=1.21.1 in c:\\programdata\\anaconda3\\lib\\site-packages (from requests[socks]>=2.11.1->tweepy) (1.25.9)\n",
      "Requirement already satisfied: PySocks!=1.5.7,>=1.5.6; extra == \"socks\" in c:\\programdata\\anaconda3\\lib\\site-packages (from requests[socks]>=2.11.1->tweepy) (1.7.1)\n"
     ]
    },
    {
     "name": "stderr",
     "output_type": "stream",
     "text": [
      "WARNING: You are using pip version 20.2.2; however, version 20.2.4 is available.\n",
      "You should consider upgrading via the 'C:\\ProgramData\\Anaconda3\\python.exe -m pip install --upgrade pip' command.\n"
     ]
    }
   ],
   "source": [
    "!pip install tweepy"
   ]
  },
  {
   "cell_type": "code",
   "execution_count": 2,
   "metadata": {},
   "outputs": [
    {
     "name": "stdout",
     "output_type": "stream",
     "text": [
      "Requirement already satisfied: openpyxl in c:\\programdata\\anaconda3\\lib\\site-packages (3.0.4)\n",
      "Requirement already satisfied: jdcal in c:\\programdata\\anaconda3\\lib\\site-packages (from openpyxl) (1.4.1)\n",
      "Requirement already satisfied: et-xmlfile in c:\\programdata\\anaconda3\\lib\\site-packages (from openpyxl) (1.0.1)\n"
     ]
    },
    {
     "name": "stderr",
     "output_type": "stream",
     "text": [
      "WARNING: You are using pip version 20.2.2; however, version 20.2.4 is available.\n",
      "You should consider upgrading via the 'C:\\ProgramData\\Anaconda3\\python.exe -m pip install --upgrade pip' command.\n"
     ]
    }
   ],
   "source": [
    "!pip install openpyxl"
   ]
  },
  {
   "cell_type": "code",
   "execution_count": 3,
   "metadata": {},
   "outputs": [],
   "source": [
    "import pandas as pd\n",
    "import numpy as np\n",
    "import tweepy\n",
    "import json\n",
    "from tweepy import OAuthHandler"
   ]
  },
  {
   "cell_type": "code",
   "execution_count": 4,
   "metadata": {},
   "outputs": [],
   "source": [
    "consumer_key='KGfCNAYTPWoKZCDvNVTzCP5s3'\n",
    "consumer_secret='eiJp7d6jkKAiIJ4KtTIiHxq6P07MQWNClO1yr5ECobhiUpLXWk'\n",
    "access_token='1330438351741202432-3gymHBubwP0HGkmp133XVQ3qM9ex93'\n",
    "access_token_secret='tAvqXOxib3SlROh2mA1tbVl5Y7qWrf4wbI5LtZX15XTDE'"
   ]
  },
  {
   "cell_type": "code",
   "execution_count": 5,
   "metadata": {},
   "outputs": [],
   "source": [
    "auth=tweepy.OAuthHandler(consumer_key,consumer_secret)\n",
    "auth.set_access_token(access_token,access_token_secret)\n",
    "api=tweepy.API(auth)"
   ]
  },
  {
   "cell_type": "code",
   "execution_count": 6,
   "metadata": {},
   "outputs": [],
   "source": [
    "query='bjp win in bihar elections 2020'"
   ]
  },
  {
   "cell_type": "code",
   "execution_count": 7,
   "metadata": {},
   "outputs": [
    {
     "name": "stdout",
     "output_type": "stream",
     "text": [
      "Status(_api=<tweepy.api.API object at 0x00000247207DA8D0>, _json={'created_at': 'Sun Nov 22 07:07:18 +0000 2020', 'id': 1330407492824788995, 'id_str': '1330407492824788995', 'text': '@waglenikhil @sardesairajdeep @INCIndia @RahulGandhi Significant shift away from BJP vis-a-vis LS2019 is why the pr… https://t.co/zPv2BiuKK5', 'truncated': True, 'entities': {'hashtags': [], 'symbols': [], 'user_mentions': [{'screen_name': 'waglenikhil', 'name': 'nikhil wagle', 'id': 189917061, 'id_str': '189917061', 'indices': [0, 12]}, {'screen_name': 'sardesairajdeep', 'name': 'Rajdeep Sardesai', 'id': 56304605, 'id_str': '56304605', 'indices': [13, 29]}, {'screen_name': 'INCIndia', 'name': 'Congress', 'id': 1153045459, 'id_str': '1153045459', 'indices': [30, 39]}, {'screen_name': 'RahulGandhi', 'name': 'Rahul Gandhi', 'id': 3171712086, 'id_str': '3171712086', 'indices': [40, 52]}], 'urls': [{'url': 'https://t.co/zPv2BiuKK5', 'expanded_url': 'https://twitter.com/i/web/status/1330407492824788995', 'display_url': 'twitter.com/i/web/status/1…', 'indices': [117, 140]}]}, 'metadata': {'iso_language_code': 'en', 'result_type': 'recent'}, 'source': '<a href=\"http://twitter.com/download/android\" rel=\"nofollow\">Twitter for Android</a>', 'in_reply_to_status_id': 1330404464549740544, 'in_reply_to_status_id_str': '1330404464549740544', 'in_reply_to_user_id': 2234702552, 'in_reply_to_user_id_str': '2234702552', 'in_reply_to_screen_name': 'cherukoth', 'user': {'id': 2234702552, 'id_str': '2234702552', 'name': 'CM Varghese', 'screen_name': 'cherukoth', 'location': 'Shuttling around-mainly S Indi', 'description': 'Life is great.', 'url': None, 'entities': {'description': {'urls': []}}, 'protected': False, 'followers_count': 33, 'friends_count': 99, 'listed_count': 0, 'created_at': 'Sat Dec 07 15:40:27 +0000 2013', 'favourites_count': 7710, 'utc_offset': None, 'time_zone': None, 'geo_enabled': False, 'verified': False, 'statuses_count': 3763, 'lang': None, 'contributors_enabled': False, 'is_translator': False, 'is_translation_enabled': False, 'profile_background_color': 'C0DEED', 'profile_background_image_url': 'http://abs.twimg.com/images/themes/theme1/bg.png', 'profile_background_image_url_https': 'https://abs.twimg.com/images/themes/theme1/bg.png', 'profile_background_tile': False, 'profile_image_url': 'http://abs.twimg.com/sticky/default_profile_images/default_profile_normal.png', 'profile_image_url_https': 'https://abs.twimg.com/sticky/default_profile_images/default_profile_normal.png', 'profile_link_color': '1DA1F2', 'profile_sidebar_border_color': 'C0DEED', 'profile_sidebar_fill_color': 'DDEEF6', 'profile_text_color': '333333', 'profile_use_background_image': True, 'has_extended_profile': False, 'default_profile': True, 'default_profile_image': True, 'following': False, 'follow_request_sent': False, 'notifications': False, 'translator_type': 'none'}, 'geo': None, 'coordinates': None, 'place': None, 'contributors': None, 'is_quote_status': False, 'retweet_count': 0, 'favorite_count': 0, 'favorited': False, 'retweeted': False, 'possibly_sensitive': False, 'lang': 'en'}, created_at=datetime.datetime(2020, 11, 22, 7, 7, 18), id=1330407492824788995, id_str='1330407492824788995', text='@waglenikhil @sardesairajdeep @INCIndia @RahulGandhi Significant shift away from BJP vis-a-vis LS2019 is why the pr… https://t.co/zPv2BiuKK5', truncated=True, entities={'hashtags': [], 'symbols': [], 'user_mentions': [{'screen_name': 'waglenikhil', 'name': 'nikhil wagle', 'id': 189917061, 'id_str': '189917061', 'indices': [0, 12]}, {'screen_name': 'sardesairajdeep', 'name': 'Rajdeep Sardesai', 'id': 56304605, 'id_str': '56304605', 'indices': [13, 29]}, {'screen_name': 'INCIndia', 'name': 'Congress', 'id': 1153045459, 'id_str': '1153045459', 'indices': [30, 39]}, {'screen_name': 'RahulGandhi', 'name': 'Rahul Gandhi', 'id': 3171712086, 'id_str': '3171712086', 'indices': [40, 52]}], 'urls': [{'url': 'https://t.co/zPv2BiuKK5', 'expanded_url': 'https://twitter.com/i/web/status/1330407492824788995', 'display_url': 'twitter.com/i/web/status/1…', 'indices': [117, 140]}]}, metadata={'iso_language_code': 'en', 'result_type': 'recent'}, source='Twitter for Android', source_url='http://twitter.com/download/android', in_reply_to_status_id=1330404464549740544, in_reply_to_status_id_str='1330404464549740544', in_reply_to_user_id=2234702552, in_reply_to_user_id_str='2234702552', in_reply_to_screen_name='cherukoth', author=User(_api=<tweepy.api.API object at 0x00000247207DA8D0>, _json={'id': 2234702552, 'id_str': '2234702552', 'name': 'CM Varghese', 'screen_name': 'cherukoth', 'location': 'Shuttling around-mainly S Indi', 'description': 'Life is great.', 'url': None, 'entities': {'description': {'urls': []}}, 'protected': False, 'followers_count': 33, 'friends_count': 99, 'listed_count': 0, 'created_at': 'Sat Dec 07 15:40:27 +0000 2013', 'favourites_count': 7710, 'utc_offset': None, 'time_zone': None, 'geo_enabled': False, 'verified': False, 'statuses_count': 3763, 'lang': None, 'contributors_enabled': False, 'is_translator': False, 'is_translation_enabled': False, 'profile_background_color': 'C0DEED', 'profile_background_image_url': 'http://abs.twimg.com/images/themes/theme1/bg.png', 'profile_background_image_url_https': 'https://abs.twimg.com/images/themes/theme1/bg.png', 'profile_background_tile': False, 'profile_image_url': 'http://abs.twimg.com/sticky/default_profile_images/default_profile_normal.png', 'profile_image_url_https': 'https://abs.twimg.com/sticky/default_profile_images/default_profile_normal.png', 'profile_link_color': '1DA1F2', 'profile_sidebar_border_color': 'C0DEED', 'profile_sidebar_fill_color': 'DDEEF6', 'profile_text_color': '333333', 'profile_use_background_image': True, 'has_extended_profile': False, 'default_profile': True, 'default_profile_image': True, 'following': False, 'follow_request_sent': False, 'notifications': False, 'translator_type': 'none'}, id=2234702552, id_str='2234702552', name='CM Varghese', screen_name='cherukoth', location='Shuttling around-mainly S Indi', description='Life is great.', url=None, entities={'description': {'urls': []}}, protected=False, followers_count=33, friends_count=99, listed_count=0, created_at=datetime.datetime(2013, 12, 7, 15, 40, 27), favourites_count=7710, utc_offset=None, time_zone=None, geo_enabled=False, verified=False, statuses_count=3763, lang=None, contributors_enabled=False, is_translator=False, is_translation_enabled=False, profile_background_color='C0DEED', profile_background_image_url='http://abs.twimg.com/images/themes/theme1/bg.png', profile_background_image_url_https='https://abs.twimg.com/images/themes/theme1/bg.png', profile_background_tile=False, profile_image_url='http://abs.twimg.com/sticky/default_profile_images/default_profile_normal.png', profile_image_url_https='https://abs.twimg.com/sticky/default_profile_images/default_profile_normal.png', profile_link_color='1DA1F2', profile_sidebar_border_color='C0DEED', profile_sidebar_fill_color='DDEEF6', profile_text_color='333333', profile_use_background_image=True, has_extended_profile=False, default_profile=True, default_profile_image=True, following=False, follow_request_sent=False, notifications=False, translator_type='none'), user=User(_api=<tweepy.api.API object at 0x00000247207DA8D0>, _json={'id': 2234702552, 'id_str': '2234702552', 'name': 'CM Varghese', 'screen_name': 'cherukoth', 'location': 'Shuttling around-mainly S Indi', 'description': 'Life is great.', 'url': None, 'entities': {'description': {'urls': []}}, 'protected': False, 'followers_count': 33, 'friends_count': 99, 'listed_count': 0, 'created_at': 'Sat Dec 07 15:40:27 +0000 2013', 'favourites_count': 7710, 'utc_offset': None, 'time_zone': None, 'geo_enabled': False, 'verified': False, 'statuses_count': 3763, 'lang': None, 'contributors_enabled': False, 'is_translator': False, 'is_translation_enabled': False, 'profile_background_color': 'C0DEED', 'profile_background_image_url': 'http://abs.twimg.com/images/themes/theme1/bg.png', 'profile_background_image_url_https': 'https://abs.twimg.com/images/themes/theme1/bg.png', 'profile_background_tile': False, 'profile_image_url': 'http://abs.twimg.com/sticky/default_profile_images/default_profile_normal.png', 'profile_image_url_https': 'https://abs.twimg.com/sticky/default_profile_images/default_profile_normal.png', 'profile_link_color': '1DA1F2', 'profile_sidebar_border_color': 'C0DEED', 'profile_sidebar_fill_color': 'DDEEF6', 'profile_text_color': '333333', 'profile_use_background_image': True, 'has_extended_profile': False, 'default_profile': True, 'default_profile_image': True, 'following': False, 'follow_request_sent': False, 'notifications': False, 'translator_type': 'none'}, id=2234702552, id_str='2234702552', name='CM Varghese', screen_name='cherukoth', location='Shuttling around-mainly S Indi', description='Life is great.', url=None, entities={'description': {'urls': []}}, protected=False, followers_count=33, friends_count=99, listed_count=0, created_at=datetime.datetime(2013, 12, 7, 15, 40, 27), favourites_count=7710, utc_offset=None, time_zone=None, geo_enabled=False, verified=False, statuses_count=3763, lang=None, contributors_enabled=False, is_translator=False, is_translation_enabled=False, profile_background_color='C0DEED', profile_background_image_url='http://abs.twimg.com/images/themes/theme1/bg.png', profile_background_image_url_https='https://abs.twimg.com/images/themes/theme1/bg.png', profile_background_tile=False, profile_image_url='http://abs.twimg.com/sticky/default_profile_images/default_profile_normal.png', profile_image_url_https='https://abs.twimg.com/sticky/default_profile_images/default_profile_normal.png', profile_link_color='1DA1F2', profile_sidebar_border_color='C0DEED', profile_sidebar_fill_color='DDEEF6', profile_text_color='333333', profile_use_background_image=True, has_extended_profile=False, default_profile=True, default_profile_image=True, following=False, follow_request_sent=False, notifications=False, translator_type='none'), geo=None, coordinates=None, place=None, contributors=None, is_quote_status=False, retweet_count=0, favorite_count=0, favorited=False, retweeted=False, possibly_sensitive=False, lang='en') \n",
      "\n",
      "...................\n",
      "\n",
      "Status(_api=<tweepy.api.API object at 0x00000247207DA8D0>, _json={'created_at': 'Wed Nov 18 04:45:24 +0000 2020', 'id': 1328922229661261824, 'id_str': '1328922229661261824', 'text': 'Why blaming Congress in Bihar is a red herring\\nThe Congress managed to win 19 out of the 70 Assembly Constituencies… https://t.co/1WWQYELxVd', 'truncated': True, 'entities': {'hashtags': [], 'symbols': [], 'user_mentions': [], 'urls': [{'url': 'https://t.co/1WWQYELxVd', 'expanded_url': 'https://twitter.com/i/web/status/1328922229661261824', 'display_url': 'twitter.com/i/web/status/1…', 'indices': [117, 140]}]}, 'metadata': {'iso_language_code': 'en', 'result_type': 'recent'}, 'source': '<a href=\"http://twitter.com/download/android\" rel=\"nofollow\">Twitter for Android</a>', 'in_reply_to_status_id': None, 'in_reply_to_status_id_str': None, 'in_reply_to_user_id': None, 'in_reply_to_user_id_str': None, 'in_reply_to_screen_name': None, 'user': {'id': 1107185703778054145, 'id_str': '1107185703778054145', 'name': 'BJP News_no_1', 'screen_name': 'BJP_News_no1', 'location': 'India Mumbai ', 'description': 'सबको रखे आगे\\nbakul Panchal', 'url': None, 'entities': {'description': {'urls': []}}, 'protected': False, 'followers_count': 3883, 'friends_count': 5001, 'listed_count': 0, 'created_at': 'Sun Mar 17 07:43:37 +0000 2019', 'favourites_count': 19977, 'utc_offset': None, 'time_zone': None, 'geo_enabled': True, 'verified': False, 'statuses_count': 23931, 'lang': None, 'contributors_enabled': False, 'is_translator': False, 'is_translation_enabled': False, 'profile_background_color': 'F5F8FA', 'profile_background_image_url': None, 'profile_background_image_url_https': None, 'profile_background_tile': False, 'profile_image_url': 'http://pbs.twimg.com/profile_images/1326905364625973260/jlErF5MM_normal.jpg', 'profile_image_url_https': 'https://pbs.twimg.com/profile_images/1326905364625973260/jlErF5MM_normal.jpg', 'profile_banner_url': 'https://pbs.twimg.com/profile_banners/1107185703778054145/1605337355', 'profile_link_color': '1DA1F2', 'profile_sidebar_border_color': 'C0DEED', 'profile_sidebar_fill_color': 'DDEEF6', 'profile_text_color': '333333', 'profile_use_background_image': True, 'has_extended_profile': False, 'default_profile': True, 'default_profile_image': False, 'following': False, 'follow_request_sent': False, 'notifications': False, 'translator_type': 'none'}, 'geo': None, 'coordinates': None, 'place': None, 'contributors': None, 'is_quote_status': False, 'retweet_count': 2, 'favorite_count': 4, 'favorited': False, 'retweeted': False, 'possibly_sensitive': False, 'lang': 'en'}, created_at=datetime.datetime(2020, 11, 18, 4, 45, 24), id=1328922229661261824, id_str='1328922229661261824', text='Why blaming Congress in Bihar is a red herring\\nThe Congress managed to win 19 out of the 70 Assembly Constituencies… https://t.co/1WWQYELxVd', truncated=True, entities={'hashtags': [], 'symbols': [], 'user_mentions': [], 'urls': [{'url': 'https://t.co/1WWQYELxVd', 'expanded_url': 'https://twitter.com/i/web/status/1328922229661261824', 'display_url': 'twitter.com/i/web/status/1…', 'indices': [117, 140]}]}, metadata={'iso_language_code': 'en', 'result_type': 'recent'}, source='Twitter for Android', source_url='http://twitter.com/download/android', in_reply_to_status_id=None, in_reply_to_status_id_str=None, in_reply_to_user_id=None, in_reply_to_user_id_str=None, in_reply_to_screen_name=None, author=User(_api=<tweepy.api.API object at 0x00000247207DA8D0>, _json={'id': 1107185703778054145, 'id_str': '1107185703778054145', 'name': 'BJP News_no_1', 'screen_name': 'BJP_News_no1', 'location': 'India Mumbai ', 'description': 'सबको रखे आगे\\nbakul Panchal', 'url': None, 'entities': {'description': {'urls': []}}, 'protected': False, 'followers_count': 3883, 'friends_count': 5001, 'listed_count': 0, 'created_at': 'Sun Mar 17 07:43:37 +0000 2019', 'favourites_count': 19977, 'utc_offset': None, 'time_zone': None, 'geo_enabled': True, 'verified': False, 'statuses_count': 23931, 'lang': None, 'contributors_enabled': False, 'is_translator': False, 'is_translation_enabled': False, 'profile_background_color': 'F5F8FA', 'profile_background_image_url': None, 'profile_background_image_url_https': None, 'profile_background_tile': False, 'profile_image_url': 'http://pbs.twimg.com/profile_images/1326905364625973260/jlErF5MM_normal.jpg', 'profile_image_url_https': 'https://pbs.twimg.com/profile_images/1326905364625973260/jlErF5MM_normal.jpg', 'profile_banner_url': 'https://pbs.twimg.com/profile_banners/1107185703778054145/1605337355', 'profile_link_color': '1DA1F2', 'profile_sidebar_border_color': 'C0DEED', 'profile_sidebar_fill_color': 'DDEEF6', 'profile_text_color': '333333', 'profile_use_background_image': True, 'has_extended_profile': False, 'default_profile': True, 'default_profile_image': False, 'following': False, 'follow_request_sent': False, 'notifications': False, 'translator_type': 'none'}, id=1107185703778054145, id_str='1107185703778054145', name='BJP News_no_1', screen_name='BJP_News_no1', location='India Mumbai ', description='सबको रखे आगे\\nbakul Panchal', url=None, entities={'description': {'urls': []}}, protected=False, followers_count=3883, friends_count=5001, listed_count=0, created_at=datetime.datetime(2019, 3, 17, 7, 43, 37), favourites_count=19977, utc_offset=None, time_zone=None, geo_enabled=True, verified=False, statuses_count=23931, lang=None, contributors_enabled=False, is_translator=False, is_translation_enabled=False, profile_background_color='F5F8FA', profile_background_image_url=None, profile_background_image_url_https=None, profile_background_tile=False, profile_image_url='http://pbs.twimg.com/profile_images/1326905364625973260/jlErF5MM_normal.jpg', profile_image_url_https='https://pbs.twimg.com/profile_images/1326905364625973260/jlErF5MM_normal.jpg', profile_banner_url='https://pbs.twimg.com/profile_banners/1107185703778054145/1605337355', profile_link_color='1DA1F2', profile_sidebar_border_color='C0DEED', profile_sidebar_fill_color='DDEEF6', profile_text_color='333333', profile_use_background_image=True, has_extended_profile=False, default_profile=True, default_profile_image=False, following=False, follow_request_sent=False, notifications=False, translator_type='none'), user=User(_api=<tweepy.api.API object at 0x00000247207DA8D0>, _json={'id': 1107185703778054145, 'id_str': '1107185703778054145', 'name': 'BJP News_no_1', 'screen_name': 'BJP_News_no1', 'location': 'India Mumbai ', 'description': 'सबको रखे आगे\\nbakul Panchal', 'url': None, 'entities': {'description': {'urls': []}}, 'protected': False, 'followers_count': 3883, 'friends_count': 5001, 'listed_count': 0, 'created_at': 'Sun Mar 17 07:43:37 +0000 2019', 'favourites_count': 19977, 'utc_offset': None, 'time_zone': None, 'geo_enabled': True, 'verified': False, 'statuses_count': 23931, 'lang': None, 'contributors_enabled': False, 'is_translator': False, 'is_translation_enabled': False, 'profile_background_color': 'F5F8FA', 'profile_background_image_url': None, 'profile_background_image_url_https': None, 'profile_background_tile': False, 'profile_image_url': 'http://pbs.twimg.com/profile_images/1326905364625973260/jlErF5MM_normal.jpg', 'profile_image_url_https': 'https://pbs.twimg.com/profile_images/1326905364625973260/jlErF5MM_normal.jpg', 'profile_banner_url': 'https://pbs.twimg.com/profile_banners/1107185703778054145/1605337355', 'profile_link_color': '1DA1F2', 'profile_sidebar_border_color': 'C0DEED', 'profile_sidebar_fill_color': 'DDEEF6', 'profile_text_color': '333333', 'profile_use_background_image': True, 'has_extended_profile': False, 'default_profile': True, 'default_profile_image': False, 'following': False, 'follow_request_sent': False, 'notifications': False, 'translator_type': 'none'}, id=1107185703778054145, id_str='1107185703778054145', name='BJP News_no_1', screen_name='BJP_News_no1', location='India Mumbai ', description='सबको रखे आगे\\nbakul Panchal', url=None, entities={'description': {'urls': []}}, protected=False, followers_count=3883, friends_count=5001, listed_count=0, created_at=datetime.datetime(2019, 3, 17, 7, 43, 37), favourites_count=19977, utc_offset=None, time_zone=None, geo_enabled=True, verified=False, statuses_count=23931, lang=None, contributors_enabled=False, is_translator=False, is_translation_enabled=False, profile_background_color='F5F8FA', profile_background_image_url=None, profile_background_image_url_https=None, profile_background_tile=False, profile_image_url='http://pbs.twimg.com/profile_images/1326905364625973260/jlErF5MM_normal.jpg', profile_image_url_https='https://pbs.twimg.com/profile_images/1326905364625973260/jlErF5MM_normal.jpg', profile_banner_url='https://pbs.twimg.com/profile_banners/1107185703778054145/1605337355', profile_link_color='1DA1F2', profile_sidebar_border_color='C0DEED', profile_sidebar_fill_color='DDEEF6', profile_text_color='333333', profile_use_background_image=True, has_extended_profile=False, default_profile=True, default_profile_image=False, following=False, follow_request_sent=False, notifications=False, translator_type='none'), geo=None, coordinates=None, place=None, contributors=None, is_quote_status=False, retweet_count=2, favorite_count=4, favorited=False, retweeted=False, possibly_sensitive=False, lang='en') \n",
      "\n",
      "...................\n",
      "\n",
      "Status(_api=<tweepy.api.API object at 0x00000247207DA8D0>, _json={'created_at': 'Mon Nov 16 06:18:45 +0000 2020', 'id': 1328220948252692481, 'id_str': '1328220948252692481', 'text': '@Tweet_to_Abhi @The_RealBan @Schandillia I am from Bihar and have no qualms in saying that the tweet is spot on. Th… https://t.co/ye8q2XAosf', 'truncated': True, 'entities': {'hashtags': [], 'symbols': [], 'user_mentions': [{'screen_name': 'Tweet_to_Abhi', 'name': 'Abhinav Raj', 'id': 175115159, 'id_str': '175115159', 'indices': [0, 14]}, {'screen_name': 'The_RealBan', 'name': 'The Real Ban', 'id': 3102106592, 'id_str': '3102106592', 'indices': [15, 27]}, {'screen_name': 'Schandillia', 'name': 'Amit Schandillia', 'id': 1161306562062766085, 'id_str': '1161306562062766085', 'indices': [28, 40]}], 'urls': [{'url': 'https://t.co/ye8q2XAosf', 'expanded_url': 'https://twitter.com/i/web/status/1328220948252692481', 'display_url': 'twitter.com/i/web/status/1…', 'indices': [117, 140]}]}, 'metadata': {'iso_language_code': 'en', 'result_type': 'recent'}, 'source': '<a href=\"https://mobile.twitter.com\" rel=\"nofollow\">Twitter Web App</a>', 'in_reply_to_status_id': 1328213866526904321, 'in_reply_to_status_id_str': '1328213866526904321', 'in_reply_to_user_id': 175115159, 'in_reply_to_user_id_str': '175115159', 'in_reply_to_screen_name': 'Tweet_to_Abhi', 'user': {'id': 1314479758810341376, 'id_str': '1314479758810341376', 'name': 'Krishna', 'screen_name': 'Krishna29005894', 'location': '', 'description': 'Socially outcast', 'url': None, 'entities': {'description': {'urls': []}}, 'protected': False, 'followers_count': 1, 'friends_count': 46, 'listed_count': 0, 'created_at': 'Fri Oct 09 08:16:20 +0000 2020', 'favourites_count': 30, 'utc_offset': None, 'time_zone': None, 'geo_enabled': False, 'verified': False, 'statuses_count': 27, 'lang': None, 'contributors_enabled': False, 'is_translator': False, 'is_translation_enabled': False, 'profile_background_color': 'F5F8FA', 'profile_background_image_url': None, 'profile_background_image_url_https': None, 'profile_background_tile': False, 'profile_image_url': 'http://abs.twimg.com/sticky/default_profile_images/default_profile_normal.png', 'profile_image_url_https': 'https://abs.twimg.com/sticky/default_profile_images/default_profile_normal.png', 'profile_link_color': '1DA1F2', 'profile_sidebar_border_color': 'C0DEED', 'profile_sidebar_fill_color': 'DDEEF6', 'profile_text_color': '333333', 'profile_use_background_image': True, 'has_extended_profile': True, 'default_profile': True, 'default_profile_image': True, 'following': False, 'follow_request_sent': False, 'notifications': False, 'translator_type': 'none'}, 'geo': None, 'coordinates': None, 'place': None, 'contributors': None, 'is_quote_status': False, 'retweet_count': 0, 'favorite_count': 2, 'favorited': False, 'retweeted': False, 'lang': 'en'}, created_at=datetime.datetime(2020, 11, 16, 6, 18, 45), id=1328220948252692481, id_str='1328220948252692481', text='@Tweet_to_Abhi @The_RealBan @Schandillia I am from Bihar and have no qualms in saying that the tweet is spot on. Th… https://t.co/ye8q2XAosf', truncated=True, entities={'hashtags': [], 'symbols': [], 'user_mentions': [{'screen_name': 'Tweet_to_Abhi', 'name': 'Abhinav Raj', 'id': 175115159, 'id_str': '175115159', 'indices': [0, 14]}, {'screen_name': 'The_RealBan', 'name': 'The Real Ban', 'id': 3102106592, 'id_str': '3102106592', 'indices': [15, 27]}, {'screen_name': 'Schandillia', 'name': 'Amit Schandillia', 'id': 1161306562062766085, 'id_str': '1161306562062766085', 'indices': [28, 40]}], 'urls': [{'url': 'https://t.co/ye8q2XAosf', 'expanded_url': 'https://twitter.com/i/web/status/1328220948252692481', 'display_url': 'twitter.com/i/web/status/1…', 'indices': [117, 140]}]}, metadata={'iso_language_code': 'en', 'result_type': 'recent'}, source='Twitter Web App', source_url='https://mobile.twitter.com', in_reply_to_status_id=1328213866526904321, in_reply_to_status_id_str='1328213866526904321', in_reply_to_user_id=175115159, in_reply_to_user_id_str='175115159', in_reply_to_screen_name='Tweet_to_Abhi', author=User(_api=<tweepy.api.API object at 0x00000247207DA8D0>, _json={'id': 1314479758810341376, 'id_str': '1314479758810341376', 'name': 'Krishna', 'screen_name': 'Krishna29005894', 'location': '', 'description': 'Socially outcast', 'url': None, 'entities': {'description': {'urls': []}}, 'protected': False, 'followers_count': 1, 'friends_count': 46, 'listed_count': 0, 'created_at': 'Fri Oct 09 08:16:20 +0000 2020', 'favourites_count': 30, 'utc_offset': None, 'time_zone': None, 'geo_enabled': False, 'verified': False, 'statuses_count': 27, 'lang': None, 'contributors_enabled': False, 'is_translator': False, 'is_translation_enabled': False, 'profile_background_color': 'F5F8FA', 'profile_background_image_url': None, 'profile_background_image_url_https': None, 'profile_background_tile': False, 'profile_image_url': 'http://abs.twimg.com/sticky/default_profile_images/default_profile_normal.png', 'profile_image_url_https': 'https://abs.twimg.com/sticky/default_profile_images/default_profile_normal.png', 'profile_link_color': '1DA1F2', 'profile_sidebar_border_color': 'C0DEED', 'profile_sidebar_fill_color': 'DDEEF6', 'profile_text_color': '333333', 'profile_use_background_image': True, 'has_extended_profile': True, 'default_profile': True, 'default_profile_image': True, 'following': False, 'follow_request_sent': False, 'notifications': False, 'translator_type': 'none'}, id=1314479758810341376, id_str='1314479758810341376', name='Krishna', screen_name='Krishna29005894', location='', description='Socially outcast', url=None, entities={'description': {'urls': []}}, protected=False, followers_count=1, friends_count=46, listed_count=0, created_at=datetime.datetime(2020, 10, 9, 8, 16, 20), favourites_count=30, utc_offset=None, time_zone=None, geo_enabled=False, verified=False, statuses_count=27, lang=None, contributors_enabled=False, is_translator=False, is_translation_enabled=False, profile_background_color='F5F8FA', profile_background_image_url=None, profile_background_image_url_https=None, profile_background_tile=False, profile_image_url='http://abs.twimg.com/sticky/default_profile_images/default_profile_normal.png', profile_image_url_https='https://abs.twimg.com/sticky/default_profile_images/default_profile_normal.png', profile_link_color='1DA1F2', profile_sidebar_border_color='C0DEED', profile_sidebar_fill_color='DDEEF6', profile_text_color='333333', profile_use_background_image=True, has_extended_profile=True, default_profile=True, default_profile_image=True, following=False, follow_request_sent=False, notifications=False, translator_type='none'), user=User(_api=<tweepy.api.API object at 0x00000247207DA8D0>, _json={'id': 1314479758810341376, 'id_str': '1314479758810341376', 'name': 'Krishna', 'screen_name': 'Krishna29005894', 'location': '', 'description': 'Socially outcast', 'url': None, 'entities': {'description': {'urls': []}}, 'protected': False, 'followers_count': 1, 'friends_count': 46, 'listed_count': 0, 'created_at': 'Fri Oct 09 08:16:20 +0000 2020', 'favourites_count': 30, 'utc_offset': None, 'time_zone': None, 'geo_enabled': False, 'verified': False, 'statuses_count': 27, 'lang': None, 'contributors_enabled': False, 'is_translator': False, 'is_translation_enabled': False, 'profile_background_color': 'F5F8FA', 'profile_background_image_url': None, 'profile_background_image_url_https': None, 'profile_background_tile': False, 'profile_image_url': 'http://abs.twimg.com/sticky/default_profile_images/default_profile_normal.png', 'profile_image_url_https': 'https://abs.twimg.com/sticky/default_profile_images/default_profile_normal.png', 'profile_link_color': '1DA1F2', 'profile_sidebar_border_color': 'C0DEED', 'profile_sidebar_fill_color': 'DDEEF6', 'profile_text_color': '333333', 'profile_use_background_image': True, 'has_extended_profile': True, 'default_profile': True, 'default_profile_image': True, 'following': False, 'follow_request_sent': False, 'notifications': False, 'translator_type': 'none'}, id=1314479758810341376, id_str='1314479758810341376', name='Krishna', screen_name='Krishna29005894', location='', description='Socially outcast', url=None, entities={'description': {'urls': []}}, protected=False, followers_count=1, friends_count=46, listed_count=0, created_at=datetime.datetime(2020, 10, 9, 8, 16, 20), favourites_count=30, utc_offset=None, time_zone=None, geo_enabled=False, verified=False, statuses_count=27, lang=None, contributors_enabled=False, is_translator=False, is_translation_enabled=False, profile_background_color='F5F8FA', profile_background_image_url=None, profile_background_image_url_https=None, profile_background_tile=False, profile_image_url='http://abs.twimg.com/sticky/default_profile_images/default_profile_normal.png', profile_image_url_https='https://abs.twimg.com/sticky/default_profile_images/default_profile_normal.png', profile_link_color='1DA1F2', profile_sidebar_border_color='C0DEED', profile_sidebar_fill_color='DDEEF6', profile_text_color='333333', profile_use_background_image=True, has_extended_profile=True, default_profile=True, default_profile_image=True, following=False, follow_request_sent=False, notifications=False, translator_type='none'), geo=None, coordinates=None, place=None, contributors=None, is_quote_status=False, retweet_count=0, favorite_count=2, favorited=False, retweeted=False, lang='en') \n",
      "\n",
      "...................\n",
      "\n"
     ]
    }
   ],
   "source": [
    "Tweets=api.search(query,count=10,lang='en',exclude='retweets',tweet_mode='extented')\n",
    "for tweet in Tweets:\n",
    "    print(tweet,'\\n')\n",
    "    print('...................\\n')"
   ]
  },
  {
   "cell_type": "code",
   "execution_count": 8,
   "metadata": {},
   "outputs": [
    {
     "name": "stdout",
     "output_type": "stream",
     "text": [
      "Empty DataFrame\n",
      "Columns: [Tweets, user, user_statuses_count, user_followers, user_location, user_verified, fav_count, rt_count, tweet_date]\n",
      "Index: []\n",
      "(0, 9)\n"
     ]
    }
   ],
   "source": [
    "df=pd.DataFrame(columns=['Tweets','user','user_statuses_count','user_followers','user_location','user_verified','fav_count',\n",
    "                        'rt_count','tweet_date'])\n",
    "print(df)\n",
    "print(df.shape)"
   ]
  },
  {
   "cell_type": "code",
   "execution_count": 9,
   "metadata": {},
   "outputs": [],
   "source": [
    "def stream(data,file_name):\n",
    "    i=0\n",
    "    for tweet in tweepy.Cursor(api.search,q=data,count=100,lang='en').items():\n",
    "        print(i,end='\\r')\n",
    "        df.loc[i,'Tweets']=tweet.text\n",
    "        df.loc[i,'user']=tweet.user.name\n",
    "        df.loc[i,'user_statuses_count']=tweet.user.statuses_count\n",
    "        df.loc[i,'user_followers']=tweet.user.followers_count\n",
    "        df.loc[i,'user_location']=tweet.user.location\n",
    "        df.loc[i,'user_verified']=tweet.user.verified\n",
    "        df.loc[i,'fav_count']=tweet.favorite_count\n",
    "        df.loc[i,'rt_count']=tweet.retweet_count\n",
    "        df.loc[i,'tweet_date']=tweet.created_at\n",
    "        df.to_excel('{}.xlsx'.format(file_name))\n",
    "        i=i+1\n",
    "        if i==1000:\n",
    "            break\n",
    "        else:\n",
    "            pass\n",
    "        "
   ]
  },
  {
   "cell_type": "code",
   "execution_count": 13,
   "metadata": {},
   "outputs": [
    {
     "name": "stdout",
     "output_type": "stream",
     "text": [
      "999\r"
     ]
    }
   ],
   "source": [
    "stream(data=['Covid Cases In India'],file_name='my_tweets')"
   ]
  },
  {
   "cell_type": "code",
   "execution_count": 14,
   "metadata": {},
   "outputs": [
    {
     "name": "stdout",
     "output_type": "stream",
     "text": [
      "Collecting textblob\n",
      "  Downloading textblob-0.15.3-py2.py3-none-any.whl (636 kB)\n",
      "Requirement already satisfied: nltk>=3.1 in c:\\programdata\\anaconda3\\lib\\site-packages (from textblob) (3.5)\n",
      "Requirement already satisfied: joblib in c:\\programdata\\anaconda3\\lib\\site-packages (from nltk>=3.1->textblob) (0.16.0)\n",
      "Requirement already satisfied: tqdm in c:\\programdata\\anaconda3\\lib\\site-packages (from nltk>=3.1->textblob) (4.47.0)\n",
      "Requirement already satisfied: regex in c:\\programdata\\anaconda3\\lib\\site-packages (from nltk>=3.1->textblob) (2020.6.8)\n",
      "Requirement already satisfied: click in c:\\programdata\\anaconda3\\lib\\site-packages (from nltk>=3.1->textblob) (7.1.2)\n",
      "Installing collected packages: textblob\n",
      "Successfully installed textblob-0.15.3\n"
     ]
    },
    {
     "name": "stderr",
     "output_type": "stream",
     "text": [
      "WARNING: You are using pip version 20.2.2; however, version 20.2.4 is available.\n",
      "You should consider upgrading via the 'C:\\ProgramData\\Anaconda3\\python.exe -m pip install --upgrade pip' command.\n"
     ]
    }
   ],
   "source": [
    "!pip install textblob"
   ]
  },
  {
   "cell_type": "code",
   "execution_count": 15,
   "metadata": {},
   "outputs": [],
   "source": [
    "from textblob import TextBlob"
   ]
  },
  {
   "cell_type": "code",
   "execution_count": 16,
   "metadata": {},
   "outputs": [],
   "source": [
    "import re\n",
    "def clean_tweet(tweet):\n",
    "    return ' '.join(re.sub('(@[A-Za-z0-9]+)|([^0-9A-Za-z \\t])|(\\w+:\\/\\/\\S+)',' ', tweet).split())"
   ]
  },
  {
   "cell_type": "code",
   "execution_count": 21,
   "metadata": {},
   "outputs": [],
   "source": [
    "def analyze_sentiment(tweet):\n",
    "    analysis=TextBlob(tweet)\n",
    "    if analysis.sentiment.polarity>0:\n",
    "        return 'Positive'\n",
    "    elif analysis.sentiment.polarity==0:\n",
    "        return 'Neutral'\n",
    "    else:\n",
    "        return 'Negative'"
   ]
  },
  {
   "cell_type": "code",
   "execution_count": 22,
   "metadata": {},
   "outputs": [],
   "source": [
    "df['clean_tweet']=df['Tweets'].apply(lambda x: clean_tweet(x))"
   ]
  },
  {
   "cell_type": "code",
   "execution_count": 23,
   "metadata": {},
   "outputs": [
    {
     "data": {
      "text/html": [
       "<div>\n",
       "<style scoped>\n",
       "    .dataframe tbody tr th:only-of-type {\n",
       "        vertical-align: middle;\n",
       "    }\n",
       "\n",
       "    .dataframe tbody tr th {\n",
       "        vertical-align: top;\n",
       "    }\n",
       "\n",
       "    .dataframe thead th {\n",
       "        text-align: right;\n",
       "    }\n",
       "</style>\n",
       "<table border=\"1\" class=\"dataframe\">\n",
       "  <thead>\n",
       "    <tr style=\"text-align: right;\">\n",
       "      <th></th>\n",
       "      <th>Tweets</th>\n",
       "      <th>user</th>\n",
       "      <th>user_statuses_count</th>\n",
       "      <th>user_followers</th>\n",
       "      <th>user_location</th>\n",
       "      <th>user_verified</th>\n",
       "      <th>fav_count</th>\n",
       "      <th>rt_count</th>\n",
       "      <th>tweet_date</th>\n",
       "      <th>clean_tweet</th>\n",
       "    </tr>\n",
       "  </thead>\n",
       "  <tbody>\n",
       "    <tr>\n",
       "      <th>0</th>\n",
       "      <td>RT @samirsaran: Delhi is reporting ~ a fifth o...</td>\n",
       "      <td>Satish Tezaa</td>\n",
       "      <td>30248</td>\n",
       "      <td>84</td>\n",
       "      <td>New Delhi, India</td>\n",
       "      <td>False</td>\n",
       "      <td>0</td>\n",
       "      <td>64</td>\n",
       "      <td>2020-11-22 12:45:56</td>\n",
       "      <td>RT Delhi is reporting a fifth of all Covid 19 ...</td>\n",
       "    </tr>\n",
       "    <tr>\n",
       "      <th>1</th>\n",
       "      <td>RT @orfonline: Active #Covid_19 cases in India...</td>\n",
       "      <td>Satish Tezaa</td>\n",
       "      <td>30248</td>\n",
       "      <td>84</td>\n",
       "      <td>New Delhi, India</td>\n",
       "      <td>False</td>\n",
       "      <td>0</td>\n",
       "      <td>6</td>\n",
       "      <td>2020-11-22 12:43:17</td>\n",
       "      <td>RT Active Covid 19 cases in India 493 470</td>\n",
       "    </tr>\n",
       "    <tr>\n",
       "      <th>2</th>\n",
       "      <td>177k new covid cases in the US, but in the oth...</td>\n",
       "      <td>Matt Fink</td>\n",
       "      <td>3685</td>\n",
       "      <td>630</td>\n",
       "      <td>Connecticut</td>\n",
       "      <td>False</td>\n",
       "      <td>0</td>\n",
       "      <td>0</td>\n",
       "      <td>2020-11-22 12:42:39</td>\n",
       "      <td>177k new covid cases in the US but in the othe...</td>\n",
       "    </tr>\n",
       "    <tr>\n",
       "      <th>3</th>\n",
       "      <td>RT @KFF: Yesterday (11/20), there were ~665,70...</td>\n",
       "      <td>steff brown</td>\n",
       "      <td>32538</td>\n",
       "      <td>217</td>\n",
       "      <td>ÜT: 38.960877,-76.904977</td>\n",
       "      <td>False</td>\n",
       "      <td>0</td>\n",
       "      <td>24</td>\n",
       "      <td>2020-11-22 12:42:19</td>\n",
       "      <td>RT Yesterday 11 20 there were 665 700 new COVI...</td>\n",
       "    </tr>\n",
       "    <tr>\n",
       "      <th>4</th>\n",
       "      <td>RT @KFF: Yesterday (11/20), there were ~665,70...</td>\n",
       "      <td>Alix Talleyrand</td>\n",
       "      <td>27314</td>\n",
       "      <td>17</td>\n",
       "      <td>Maryland</td>\n",
       "      <td>False</td>\n",
       "      <td>0</td>\n",
       "      <td>24</td>\n",
       "      <td>2020-11-22 12:42:08</td>\n",
       "      <td>RT Yesterday 11 20 there were 665 700 new COVI...</td>\n",
       "    </tr>\n",
       "  </tbody>\n",
       "</table>\n",
       "</div>"
      ],
      "text/plain": [
       "                                              Tweets             user  \\\n",
       "0  RT @samirsaran: Delhi is reporting ~ a fifth o...     Satish Tezaa   \n",
       "1  RT @orfonline: Active #Covid_19 cases in India...     Satish Tezaa   \n",
       "2  177k new covid cases in the US, but in the oth...        Matt Fink   \n",
       "3  RT @KFF: Yesterday (11/20), there were ~665,70...      steff brown   \n",
       "4  RT @KFF: Yesterday (11/20), there were ~665,70...  Alix Talleyrand   \n",
       "\n",
       "  user_statuses_count user_followers             user_location user_verified  \\\n",
       "0               30248             84          New Delhi, India         False   \n",
       "1               30248             84          New Delhi, India         False   \n",
       "2                3685            630               Connecticut         False   \n",
       "3               32538            217  ÜT: 38.960877,-76.904977         False   \n",
       "4               27314             17                  Maryland         False   \n",
       "\n",
       "  fav_count rt_count           tweet_date  \\\n",
       "0         0       64  2020-11-22 12:45:56   \n",
       "1         0        6  2020-11-22 12:43:17   \n",
       "2         0        0  2020-11-22 12:42:39   \n",
       "3         0       24  2020-11-22 12:42:19   \n",
       "4         0       24  2020-11-22 12:42:08   \n",
       "\n",
       "                                         clean_tweet  \n",
       "0  RT Delhi is reporting a fifth of all Covid 19 ...  \n",
       "1          RT Active Covid 19 cases in India 493 470  \n",
       "2  177k new covid cases in the US but in the othe...  \n",
       "3  RT Yesterday 11 20 there were 665 700 new COVI...  \n",
       "4  RT Yesterday 11 20 there were 665 700 new COVI...  "
      ]
     },
     "execution_count": 23,
     "metadata": {},
     "output_type": "execute_result"
    }
   ],
   "source": [
    "df.head()"
   ]
  },
  {
   "cell_type": "code",
   "execution_count": 24,
   "metadata": {},
   "outputs": [
    {
     "data": {
      "text/html": [
       "<div>\n",
       "<style scoped>\n",
       "    .dataframe tbody tr th:only-of-type {\n",
       "        vertical-align: middle;\n",
       "    }\n",
       "\n",
       "    .dataframe tbody tr th {\n",
       "        vertical-align: top;\n",
       "    }\n",
       "\n",
       "    .dataframe thead th {\n",
       "        text-align: right;\n",
       "    }\n",
       "</style>\n",
       "<table border=\"1\" class=\"dataframe\">\n",
       "  <thead>\n",
       "    <tr style=\"text-align: right;\">\n",
       "      <th></th>\n",
       "      <th>Tweets</th>\n",
       "      <th>user</th>\n",
       "      <th>user_statuses_count</th>\n",
       "      <th>user_followers</th>\n",
       "      <th>user_location</th>\n",
       "      <th>user_verified</th>\n",
       "      <th>fav_count</th>\n",
       "      <th>rt_count</th>\n",
       "      <th>tweet_date</th>\n",
       "      <th>clean_tweet</th>\n",
       "      <th>sentiment</th>\n",
       "    </tr>\n",
       "  </thead>\n",
       "  <tbody>\n",
       "    <tr>\n",
       "      <th>0</th>\n",
       "      <td>RT @samirsaran: Delhi is reporting ~ a fifth o...</td>\n",
       "      <td>Satish Tezaa</td>\n",
       "      <td>30248</td>\n",
       "      <td>84</td>\n",
       "      <td>New Delhi, India</td>\n",
       "      <td>False</td>\n",
       "      <td>0</td>\n",
       "      <td>64</td>\n",
       "      <td>2020-11-22 12:45:56</td>\n",
       "      <td>RT Delhi is reporting a fifth of all Covid 19 ...</td>\n",
       "      <td>Neutral</td>\n",
       "    </tr>\n",
       "    <tr>\n",
       "      <th>1</th>\n",
       "      <td>RT @orfonline: Active #Covid_19 cases in India...</td>\n",
       "      <td>Satish Tezaa</td>\n",
       "      <td>30248</td>\n",
       "      <td>84</td>\n",
       "      <td>New Delhi, India</td>\n",
       "      <td>False</td>\n",
       "      <td>0</td>\n",
       "      <td>6</td>\n",
       "      <td>2020-11-22 12:43:17</td>\n",
       "      <td>RT Active Covid 19 cases in India 493 470</td>\n",
       "      <td>Negative</td>\n",
       "    </tr>\n",
       "    <tr>\n",
       "      <th>2</th>\n",
       "      <td>177k new covid cases in the US, but in the oth...</td>\n",
       "      <td>Matt Fink</td>\n",
       "      <td>3685</td>\n",
       "      <td>630</td>\n",
       "      <td>Connecticut</td>\n",
       "      <td>False</td>\n",
       "      <td>0</td>\n",
       "      <td>0</td>\n",
       "      <td>2020-11-22 12:42:39</td>\n",
       "      <td>177k new covid cases in the US but in the othe...</td>\n",
       "      <td>Positive</td>\n",
       "    </tr>\n",
       "    <tr>\n",
       "      <th>3</th>\n",
       "      <td>RT @KFF: Yesterday (11/20), there were ~665,70...</td>\n",
       "      <td>steff brown</td>\n",
       "      <td>32538</td>\n",
       "      <td>217</td>\n",
       "      <td>ÜT: 38.960877,-76.904977</td>\n",
       "      <td>False</td>\n",
       "      <td>0</td>\n",
       "      <td>24</td>\n",
       "      <td>2020-11-22 12:42:19</td>\n",
       "      <td>RT Yesterday 11 20 there were 665 700 new COVI...</td>\n",
       "      <td>Positive</td>\n",
       "    </tr>\n",
       "    <tr>\n",
       "      <th>4</th>\n",
       "      <td>RT @KFF: Yesterday (11/20), there were ~665,70...</td>\n",
       "      <td>Alix Talleyrand</td>\n",
       "      <td>27314</td>\n",
       "      <td>17</td>\n",
       "      <td>Maryland</td>\n",
       "      <td>False</td>\n",
       "      <td>0</td>\n",
       "      <td>24</td>\n",
       "      <td>2020-11-22 12:42:08</td>\n",
       "      <td>RT Yesterday 11 20 there were 665 700 new COVI...</td>\n",
       "      <td>Positive</td>\n",
       "    </tr>\n",
       "  </tbody>\n",
       "</table>\n",
       "</div>"
      ],
      "text/plain": [
       "                                              Tweets             user  \\\n",
       "0  RT @samirsaran: Delhi is reporting ~ a fifth o...     Satish Tezaa   \n",
       "1  RT @orfonline: Active #Covid_19 cases in India...     Satish Tezaa   \n",
       "2  177k new covid cases in the US, but in the oth...        Matt Fink   \n",
       "3  RT @KFF: Yesterday (11/20), there were ~665,70...      steff brown   \n",
       "4  RT @KFF: Yesterday (11/20), there were ~665,70...  Alix Talleyrand   \n",
       "\n",
       "  user_statuses_count user_followers             user_location user_verified  \\\n",
       "0               30248             84          New Delhi, India         False   \n",
       "1               30248             84          New Delhi, India         False   \n",
       "2                3685            630               Connecticut         False   \n",
       "3               32538            217  ÜT: 38.960877,-76.904977         False   \n",
       "4               27314             17                  Maryland         False   \n",
       "\n",
       "  fav_count rt_count           tweet_date  \\\n",
       "0         0       64  2020-11-22 12:45:56   \n",
       "1         0        6  2020-11-22 12:43:17   \n",
       "2         0        0  2020-11-22 12:42:39   \n",
       "3         0       24  2020-11-22 12:42:19   \n",
       "4         0       24  2020-11-22 12:42:08   \n",
       "\n",
       "                                         clean_tweet sentiment  \n",
       "0  RT Delhi is reporting a fifth of all Covid 19 ...   Neutral  \n",
       "1          RT Active Covid 19 cases in India 493 470  Negative  \n",
       "2  177k new covid cases in the US but in the othe...  Positive  \n",
       "3  RT Yesterday 11 20 there were 665 700 new COVI...  Positive  \n",
       "4  RT Yesterday 11 20 there were 665 700 new COVI...  Positive  "
      ]
     },
     "execution_count": 24,
     "metadata": {},
     "output_type": "execute_result"
    }
   ],
   "source": [
    "df['sentiment']=df['clean_tweet'].apply(lambda x:analyze_sentiment(x))\n",
    "df.head()"
   ]
  },
  {
   "cell_type": "code",
   "execution_count": 27,
   "metadata": {},
   "outputs": [
    {
     "name": "stdout",
     "output_type": "stream",
     "text": [
      "Original tweet:\n",
      " RT @ShoaibPTI_PP147: During the last wave of COVID, opposition wanted complete lockdown in PAK like India.Cases are surging &amp; moving to 2nd…\n",
      "\n",
      "clean tweet:\n",
      " RT PP147 During the last wave of COVID opposition wanted complete lockdown in PAK like India Cases are surging amp moving to 2nd\n",
      "\n",
      "sentiment of the tweet:\n",
      " Positive\n"
     ]
    }
   ],
   "source": [
    "n=540\n",
    "print('Original tweet:\\n',df['Tweets'][n])\n",
    "print()\n",
    "print('clean tweet:\\n',df['clean_tweet'][n])\n",
    "print()\n",
    "print('sentiment of the tweet:\\n',df['sentiment'][n])"
   ]
  },
  {
   "cell_type": "code",
   "execution_count": 32,
   "metadata": {},
   "outputs": [
    {
     "data": {
      "text/plain": [
       "0"
      ]
     },
     "execution_count": 32,
     "metadata": {},
     "output_type": "execute_result"
    }
   ],
   "source": [
    "df[df['sentiment']=='Postive'].shape[0]"
   ]
  },
  {
   "cell_type": "code",
   "execution_count": 30,
   "metadata": {},
   "outputs": [
    {
     "data": {
      "text/plain": [
       "180"
      ]
     },
     "execution_count": 30,
     "metadata": {},
     "output_type": "execute_result"
    }
   ],
   "source": [
    "df[df['sentiment']=='Negative'].shape[0]"
   ]
  },
  {
   "cell_type": "code",
   "execution_count": 31,
   "metadata": {},
   "outputs": [
    {
     "data": {
      "text/plain": [
       "316"
      ]
     },
     "execution_count": 31,
     "metadata": {},
     "output_type": "execute_result"
    }
   ],
   "source": [
    "df[df['sentiment']=='Neutral'].shape[0]"
   ]
  }
 ],
 "metadata": {
  "kernelspec": {
   "display_name": "Python 3",
   "language": "python",
   "name": "python3"
  },
  "language_info": {
   "codemirror_mode": {
    "name": "ipython",
    "version": 3
   },
   "file_extension": ".py",
   "mimetype": "text/x-python",
   "name": "python",
   "nbconvert_exporter": "python",
   "pygments_lexer": "ipython3",
   "version": "3.6.10"
  }
 },
 "nbformat": 4,
 "nbformat_minor": 4
}
