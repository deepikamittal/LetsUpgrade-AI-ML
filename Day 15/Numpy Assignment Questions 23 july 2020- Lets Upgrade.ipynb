{
 "cells": [
  {
   "cell_type": "markdown",
   "metadata": {},
   "source": [
    "# 1. Create a 3x3x3 array with random values "
   ]
  },
  {
   "cell_type": "code",
   "execution_count": 1,
   "metadata": {},
   "outputs": [],
   "source": [
    "import numpy as np"
   ]
  },
  {
   "cell_type": "code",
   "execution_count": 2,
   "metadata": {},
   "outputs": [
    {
     "name": "stdout",
     "output_type": "stream",
     "text": [
      "[[[0.22908559 0.31603832 0.90083865]\n",
      "  [0.2801303  0.97725589 0.99726892]\n",
      "  [0.81587006 0.45658584 0.86093325]]\n",
      "\n",
      " [[0.94665052 0.16754013 0.77931293]\n",
      "  [0.47217239 0.5887745  0.54856234]\n",
      "  [0.9204112  0.76483227 0.03705401]]\n",
      "\n",
      " [[0.04033457 0.14781515 0.44663371]\n",
      "  [0.54601418 0.08564348 0.29245086]\n",
      "  [0.72774449 0.6208349  0.51009537]]]\n"
     ]
    }
   ],
   "source": [
    "a1=np.random.random((3,3,3))\n",
    "print(a1)"
   ]
  },
  {
   "cell_type": "markdown",
   "metadata": {},
   "source": [
    "# 2.Create a 5x5 matrix with values 1,2,3,4 just below the diagonal"
   ]
  },
  {
   "cell_type": "code",
   "execution_count": 3,
   "metadata": {},
   "outputs": [
    {
     "name": "stdout",
     "output_type": "stream",
     "text": [
      "original matrix: \n",
      "[[11  8  5  6 19]\n",
      " [12  1 19  1 10]\n",
      " [ 0  8 13  8 13]\n",
      " [ 4  5 10  7 13]\n",
      " [17  7  9 12  1]]\n",
      "new matrix:\n",
      "[[11  8  5  6 19]\n",
      " [ 2  1 19  1 10]\n",
      " [ 2  1 13  8 13]\n",
      " [ 2  5  1  7 13]\n",
      " [ 1  1  3  2  1]]\n"
     ]
    }
   ],
   "source": [
    "import random\n",
    "b=np.random.randint(20,size=(5,5))\n",
    "print('original matrix: ')\n",
    "print(b)\n",
    "for i in range(0,len(b)):\n",
    "    for j in range(0,len(b)):\n",
    "        if i>j:\n",
    "            b[i][j]=random.randint(1,5)\n",
    "print('new matrix:')\n",
    "print(b)\n",
    "    "
   ]
  },
  {
   "cell_type": "markdown",
   "metadata": {},
   "source": [
    "# 3.Create a 8x8 matrix and fill it with a checkerboard pattern"
   ]
  },
  {
   "cell_type": "code",
   "execution_count": 4,
   "metadata": {},
   "outputs": [
    {
     "name": "stdout",
     "output_type": "stream",
     "text": [
      "[[0 1 0 1 0 1 0 1]\n",
      " [1 0 1 0 1 0 1 0]\n",
      " [0 1 0 1 0 1 0 1]\n",
      " [1 0 1 0 1 0 1 0]\n",
      " [0 1 0 1 0 1 0 1]\n",
      " [1 0 1 0 1 0 1 0]\n",
      " [0 1 0 1 0 1 0 1]\n",
      " [1 0 1 0 1 0 1 0]]\n"
     ]
    }
   ],
   "source": [
    "a2=np.zeros((8,8),dtype='int')\n",
    "a2[::2,1::2]=1\n",
    "a2[1::2,::2]=1\n",
    "print(a2)"
   ]
  },
  {
   "cell_type": "markdown",
   "metadata": {},
   "source": [
    "# 4. Normalize a 5x5 random matrix"
   ]
  },
  {
   "cell_type": "code",
   "execution_count": 5,
   "metadata": {},
   "outputs": [
    {
     "name": "stdout",
     "output_type": "stream",
     "text": [
      "original array:\n",
      "[[ 34 119   0  20 108]\n",
      " [128  90 122  38 105]\n",
      " [ 57  46  54  96 126]\n",
      " [ 14   6  88  21  66]\n",
      " [ 75   4  26 104   8]]\n",
      "Normalized Array:\n",
      "[[0.265625  0.9296875 0.        0.15625   0.84375  ]\n",
      " [1.        0.703125  0.953125  0.296875  0.8203125]\n",
      " [0.4453125 0.359375  0.421875  0.75      0.984375 ]\n",
      " [0.109375  0.046875  0.6875    0.1640625 0.515625 ]\n",
      " [0.5859375 0.03125   0.203125  0.8125    0.0625   ]]\n"
     ]
    }
   ],
   "source": [
    "arr=np.random.randint(130,size=(5,5))\n",
    "print('original array:')\n",
    "print(arr)\n",
    "new_arr=(arr-arr.min())/(arr.max()-arr.min())\n",
    "print('Normalized Array:')\n",
    "print(new_arr)"
   ]
  },
  {
   "cell_type": "markdown",
   "metadata": {},
   "source": [
    "# 5.  How to find common values between two arrays?"
   ]
  },
  {
   "cell_type": "code",
   "execution_count": 6,
   "metadata": {},
   "outputs": [
    {
     "name": "stdout",
     "output_type": "stream",
     "text": [
      "Common Values:  [20 40]\n"
     ]
    }
   ],
   "source": [
    "a3=np.array([10,20,30,40,50])\n",
    "a4=np.array([20,25,40,45])\n",
    "a5=np.intersect1d(a3,a4)\n",
    "print('Common Values: ',a5)"
   ]
  },
  {
   "cell_type": "markdown",
   "metadata": {},
   "source": [
    "# 6.How to get the dates of yesterday, today and tomorrow?"
   ]
  },
  {
   "cell_type": "code",
   "execution_count": 7,
   "metadata": {},
   "outputs": [
    {
     "name": "stdout",
     "output_type": "stream",
     "text": [
      "Yestraday:  2020-07-26\n",
      "Today:  2020-07-27\n",
      "Tomorrow:  2020-07-28\n"
     ]
    }
   ],
   "source": [
    "yesterday=np.datetime64('today','D') - np.timedelta64(1,'D')\n",
    "print('Yestraday: ',yesterday)\n",
    "today= np.datetime64('today','D')\n",
    "print('Today: ',today)\n",
    "tomorrow=np.datetime64('today','D') + np.timedelta64(1,'D')\n",
    "print('Tomorrow: ',tomorrow)"
   ]
  },
  {
   "cell_type": "markdown",
   "metadata": {},
   "source": [
    "# 7. Consider two random array A and B, check if they are equal"
   ]
  },
  {
   "cell_type": "code",
   "execution_count": 8,
   "metadata": {},
   "outputs": [
    {
     "data": {
      "text/plain": [
       "False"
      ]
     },
     "execution_count": 8,
     "metadata": {},
     "output_type": "execute_result"
    }
   ],
   "source": [
    "A=np.array([[2,3,4],[6,4,8],[10,9,7]])\n",
    "B=np.array([[2,3,4],[6,4,8]])\n",
    "np.array_equal(A,B)"
   ]
  },
  {
   "cell_type": "markdown",
   "metadata": {},
   "source": [
    "# 8.Create random vector of size 10 and replace the maximum value by 0 "
   ]
  },
  {
   "cell_type": "code",
   "execution_count": 9,
   "metadata": {},
   "outputs": [
    {
     "name": "stdout",
     "output_type": "stream",
     "text": [
      "original Array:  [17  7  6  3 29  1  4 25 26 12]\n",
      "New array:  [17  7  6  3  0  1  4 25 26 12]\n"
     ]
    }
   ],
   "source": [
    "arr1=np.random.randint(30,size=10)\n",
    "print('original Array: ',arr1)\n",
    "arr1[arr1.argmax()]=0\n",
    "print('New array: ',arr1)"
   ]
  },
  {
   "cell_type": "markdown",
   "metadata": {},
   "source": [
    "# 9. How to print all the values of an array?"
   ]
  },
  {
   "cell_type": "code",
   "execution_count": 10,
   "metadata": {},
   "outputs": [
    {
     "name": "stdout",
     "output_type": "stream",
     "text": [
      "10\n",
      "14\n",
      "17\n",
      "20\n",
      "24\n"
     ]
    }
   ],
   "source": [
    "arr2=np.array([10,14,17,20,24])\n",
    "for i in arr2:\n",
    "    print(i)"
   ]
  },
  {
   "cell_type": "markdown",
   "metadata": {},
   "source": [
    "# 10.Subtract the mean of each row of a matrix"
   ]
  },
  {
   "cell_type": "code",
   "execution_count": 11,
   "metadata": {},
   "outputs": [
    {
     "name": "stdout",
     "output_type": "stream",
     "text": [
      "Mean array:\n",
      "[[3.        ]\n",
      " [6.        ]\n",
      " [8.66666667]]\n",
      "After subtracting mean array: \n",
      "[[-1.          0.          1.        ]\n",
      " [ 0.         -2.          2.        ]\n",
      " [ 1.33333333  0.33333333 -1.66666667]]\n"
     ]
    }
   ],
   "source": [
    "arr3=np.array([[2,3,4],[6,4,8],[10,9,7]])\n",
    "mean_arr=np.mean(arr3,axis=1)\n",
    "x=np.array([mean_arr]).T\n",
    "new=arr3-x\n",
    "print('Mean array:')\n",
    "print(x)\n",
    "print('After subtracting mean array: ')\n",
    "print(new)"
   ]
  },
  {
   "cell_type": "markdown",
   "metadata": {},
   "source": [
    "# 11.Consider a given vector, how to add 1 to each element indexed by a second vector (be careful with repeated indices)? "
   ]
  },
  {
   "cell_type": "code",
   "execution_count": 12,
   "metadata": {},
   "outputs": [
    {
     "name": "stdout",
     "output_type": "stream",
     "text": [
      "Given Vector:  [10 15 20 25 35 38 42 56 60 70]\n",
      "index vector:  [0 3 1 1]\n",
      "New index vector:  [0 3 1]\n",
      "new vector:  [11 16 20 26 35 38 42 56 60 70]\n"
     ]
    }
   ],
   "source": [
    "c=np.array([10,15,20,25,35,38,42,56,60,70])\n",
    "index=np.random.randint(len(c),size=4)\n",
    "print('Given Vector: ',c)\n",
    "print('index vector: ',index)\n",
    "l=[]\n",
    "for i in index:\n",
    "    if i not in l:\n",
    "        l.append(i)\n",
    "new_in=np.array(l)\n",
    "print('New index vector: ',new_in)\n",
    "for i in new_in:\n",
    "    c[i]=c[i]+1\n",
    "print('new vector: ',c)"
   ]
  },
  {
   "cell_type": "markdown",
   "metadata": {},
   "source": [
    "# 12.How to get the diagonal of a dot product?"
   ]
  },
  {
   "cell_type": "code",
   "execution_count": 13,
   "metadata": {},
   "outputs": [
    {
     "name": "stdout",
     "output_type": "stream",
     "text": [
      "Dot Product array: \n",
      "[[ 34  36  20]\n",
      " [ 21  28  22]\n",
      " [ 90 100  64]]\n",
      "Diagonal:  [34 28 64]\n"
     ]
    }
   ],
   "source": [
    "ar1=np.array([[1,2,3],[2,3,1],[5,6,7]])\n",
    "ar2=np.array([[3,4,5],[2,4,3],[9,8,3]])\n",
    "dp=np.dot(ar1,ar2)\n",
    "print('Dot Product array: ')\n",
    "print(dp)\n",
    "diagonal=np.diag(dp)\n",
    "print('Diagonal: ',diagonal)"
   ]
  },
  {
   "cell_type": "markdown",
   "metadata": {},
   "source": [
    "# 13.How to find the most frequent value in an array?"
   ]
  },
  {
   "cell_type": "code",
   "execution_count": 14,
   "metadata": {},
   "outputs": [
    {
     "name": "stdout",
     "output_type": "stream",
     "text": [
      "Original array:\n",
      "[10 20 30 32 20 56 45 32 32 10 32]\n",
      "Most frequent value:\n",
      "32\n"
     ]
    }
   ],
   "source": [
    "d=np.array([10,20,30,32,20,56,45,32,32,10,32])\n",
    "print('Original array:')\n",
    "print(d)\n",
    "print('Most frequent value:')\n",
    "print(np.bincount(d).argmax())"
   ]
  },
  {
   "cell_type": "markdown",
   "metadata": {},
   "source": [
    "# 14.How to get the n largest values of an array"
   ]
  },
  {
   "cell_type": "code",
   "execution_count": 15,
   "metadata": {},
   "outputs": [],
   "source": [
    "def num(n):\n",
    "    a=np.arange(12)\n",
    "    print('Original array: ',a)\n",
    "    print('n largest values in array: ',a[np.argsort(a)[-n:]])"
   ]
  },
  {
   "cell_type": "code",
   "execution_count": 16,
   "metadata": {},
   "outputs": [
    {
     "name": "stdout",
     "output_type": "stream",
     "text": [
      "Original array:  [ 0  1  2  3  4  5  6  7  8  9 10 11]\n",
      "n largest values in array:  [ 8  9 10 11]\n"
     ]
    }
   ],
   "source": [
    "num(4)"
   ]
  },
  {
   "cell_type": "markdown",
   "metadata": {},
   "source": [
    "# 15.How to create a record array from a regular array?"
   ]
  },
  {
   "cell_type": "code",
   "execution_count": 17,
   "metadata": {},
   "outputs": [
    {
     "name": "stdout",
     "output_type": "stream",
     "text": [
      "[(1, 'Hi', 12) (2, 'Ai-ml', 15) (3, 'team', 20) (4, 'learners', 34)]\n"
     ]
    }
   ],
   "source": [
    "a1=np.array([1,2,3,4])\n",
    "a2=np.array(['Hi','Ai-ml','team','learners'])\n",
    "a3=np.array([12,15,20,34])\n",
    "result= np.core.records.fromarrays([a1, a2, a3],names='a,b,c')\n",
    "print(result)"
   ]
  }
 ],
 "metadata": {
  "kernelspec": {
   "display_name": "Python 3",
   "language": "python",
   "name": "python3"
  },
  "language_info": {
   "codemirror_mode": {
    "name": "ipython",
    "version": 3
   },
   "file_extension": ".py",
   "mimetype": "text/x-python",
   "name": "python",
   "nbconvert_exporter": "python",
   "pygments_lexer": "ipython3",
   "version": "3.6.5"
  }
 },
 "nbformat": 4,
 "nbformat_minor": 2
}
