{
 "cells": [
  {
   "cell_type": "markdown",
   "metadata": {},
   "source": [
    "__Question 1:__ find 20 non even prime numbers"
   ]
  },
  {
   "cell_type": "code",
   "execution_count": 1,
   "metadata": {},
   "outputs": [
    {
     "name": "stdout",
     "output_type": "stream",
     "text": [
      "3\n",
      "5\n",
      "7\n",
      "11\n",
      "13\n",
      "17\n",
      "19\n",
      "23\n",
      "29\n",
      "31\n",
      "37\n",
      "41\n",
      "43\n",
      "47\n",
      "53\n",
      "59\n",
      "61\n",
      "67\n",
      "71\n",
      "73\n"
     ]
    }
   ],
   "source": [
    "counter=1\n",
    "for i in range(3,100,2):\n",
    "    prime_flag=0\n",
    "    for j in range(3,i,2):\n",
    "        if i%j==0:\n",
    "            prime_flag=prime_flag+1\n",
    "            break\n",
    "    if prime_flag==0:\n",
    "        print(i)\n",
    "        counter=counter+1\n",
    "    if counter>20:\n",
    "        break"
   ]
  },
  {
   "cell_type": "markdown",
   "metadata": {},
   "source": [
    "__Question 2:__ Implementing functions of string"
   ]
  },
  {
   "cell_type": "code",
   "execution_count": 2,
   "metadata": {},
   "outputs": [
    {
     "name": "stdout",
     "output_type": "stream",
     "text": [
      "Slicing: eepi\n",
      "Negative Indexing:  Mitt\n",
      "String length: 14\n",
      "Strip: Deepika Mittal\n",
      "lower: deepika mittal\n",
      "Upper: DEEPIKA MITTAL\n",
      "Replace: Deepiku Mittul\n",
      "Split: ['Deepika', 'Mittal']\n",
      "Find: 8\n",
      "Isalpha: False\n",
      "Capitalize: Deepika mittal\n",
      "Swap case: dEEPIKA mITTAL\n",
      "Count: 2\n",
      "Index: 5\n",
      "Format: I am 29 years old\n"
     ]
    }
   ],
   "source": [
    "a= 'Deepika Mittal'\n",
    "# slicing\n",
    "print('Slicing:',a[1:5])\n",
    "# Negative Indexing\n",
    "print('Negative Indexing:',a[-7:-2])\n",
    "# String lenth\n",
    "print('String length:',len(a))\n",
    "# Strip\n",
    "print('Strip:',a.strip())\n",
    "# lower\n",
    "print('lower:',a.lower())\n",
    "# Upper\n",
    "print('Upper:',a.upper())\n",
    "# Replace\n",
    "print('Replace:',a.replace('a','u'))\n",
    "# Split\n",
    "print('Split:',a.split(' '))\n",
    "# find\n",
    "print('Find:',a.find('M'))\n",
    "# isalpha\n",
    "print('Isalpha:',a.isalpha())\n",
    "# capitalize\n",
    "print('Capitalize:',a.capitalize())\n",
    "# swap case\n",
    "print('Swap case:',a.swapcase())\n",
    "# count\n",
    "print('Count:',a.count('e'))\n",
    "# index\n",
    "print('Index:',a.index('k'))\n",
    "# format\n",
    "b= 'I am {} years old'\n",
    "age=29\n",
    "print('Format:',b.format(age))"
   ]
  },
  {
   "cell_type": "markdown",
   "metadata": {},
   "source": [
    "__Question 3:__ Check whether given string is palindrome , anagram or none"
   ]
  },
  {
   "cell_type": "code",
   "execution_count": 3,
   "metadata": {},
   "outputs": [],
   "source": [
    "#Using Sorted Function\n",
    "\n",
    "def name(s1,s2):\n",
    "    if s1==s1[::-1]:\n",
    "        print('String 1 is palindrome')\n",
    "    elif sorted(s1)==sorted(s2):\n",
    "        print('strings are anagrams')\n",
    "    else:\n",
    "        print('None of them')\n",
    "        \n",
    "             "
   ]
  },
  {
   "cell_type": "code",
   "execution_count": 4,
   "metadata": {},
   "outputs": [
    {
     "name": "stdout",
     "output_type": "stream",
     "text": [
      "String 1 is palindrome\n"
     ]
    }
   ],
   "source": [
    "name('madam','damam')"
   ]
  },
  {
   "cell_type": "code",
   "execution_count": 5,
   "metadata": {},
   "outputs": [],
   "source": [
    "# Option 2 for Anagrams - Without Sorted function\n",
    "def name2(s1,s2):\n",
    "    counter=0\n",
    "    if len(s1)==len(s2):\n",
    "        for i in range(0,len(s1)):\n",
    "            if s2.count(s1[i])==s1.count(s1[i]):\n",
    "                counter=counter+1\n",
    "        if counter==len(s1):    \n",
    "            print('Strings are anagrams')\n",
    "        else:\n",
    "            print('Strings are not anagrams')\n",
    "    else:\n",
    "        print('Strings are not anagrams')"
   ]
  },
  {
   "cell_type": "code",
   "execution_count": 6,
   "metadata": {},
   "outputs": [
    {
     "name": "stdout",
     "output_type": "stream",
     "text": [
      "Strings are anagrams\n"
     ]
    }
   ],
   "source": [
    "name2('silent','listen')"
   ]
  },
  {
   "cell_type": "markdown",
   "metadata": {},
   "source": [
    "__Question 4:__ Removing additional Characters"
   ]
  },
  {
   "cell_type": "code",
   "execution_count": 7,
   "metadata": {},
   "outputs": [
    {
     "name": "stdout",
     "output_type": "stream",
     "text": [
      "my name is deepika mittal  learner aiml upgrade\n"
     ]
    }
   ],
   "source": [
    "str1= 'My name is Deepika Mittal - learner@ AI/ML upgrade'\n",
    "extra=['-','@','/']\n",
    "for i in extra:\n",
    "    str1=str1.replace(i,'').lower()\n",
    "print(str1)"
   ]
  }
 ],
 "metadata": {
  "kernelspec": {
   "display_name": "Python 3",
   "language": "python",
   "name": "python3"
  },
  "language_info": {
   "codemirror_mode": {
    "name": "ipython",
    "version": 3
   },
   "file_extension": ".py",
   "mimetype": "text/x-python",
   "name": "python",
   "nbconvert_exporter": "python",
   "pygments_lexer": "ipython3",
   "version": "3.6.5"
  }
 },
 "nbformat": 4,
 "nbformat_minor": 2
}
