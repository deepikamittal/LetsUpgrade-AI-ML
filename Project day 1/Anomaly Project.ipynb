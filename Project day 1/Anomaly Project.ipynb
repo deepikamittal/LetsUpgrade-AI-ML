{
 "cells": [
  {
   "cell_type": "code",
   "execution_count": 1,
   "metadata": {},
   "outputs": [],
   "source": [
    "import os\n",
    "import sys\n",
    "import pandas as pd\n",
    "import numpy as np\n",
    "from scipy.io import loadmat\n",
    "from sklearn.model_selection import train_test_split"
   ]
  },
  {
   "cell_type": "code",
   "execution_count": 4,
   "metadata": {},
   "outputs": [],
   "source": [
    "from pyod.models.pca import PCA\n",
    "from pyod.models.mcd import MCD\n",
    "from pyod.models.ocsvm import OCSVM\n",
    "from pyod.models.lof import LOF\n",
    "from pyod.models.cblof import CBLOF\n",
    "from pyod.models.knn import KNN\n",
    "from pyod.models.hbos import HBOS\n",
    "from pyod.models.abod import ABOD\n",
    "from pyod.models.iforest import IForest\n",
    "from pyod.models.feature_bagging import FeatureBagging"
   ]
  },
  {
   "cell_type": "code",
   "execution_count": 6,
   "metadata": {},
   "outputs": [],
   "source": [
    "from pyod.utils.utility import standardizer\n",
    "from pyod.utils.utility import precision_n_scores\n",
    "from sklearn.metrics import roc_auc_score"
   ]
  },
  {
   "cell_type": "code",
   "execution_count": 9,
   "metadata": {},
   "outputs": [],
   "source": [
    "from time import time\n",
    "random_state=np.random.RandomState(23)"
   ]
  },
  {
   "cell_type": "code",
   "execution_count": 10,
   "metadata": {},
   "outputs": [],
   "source": [
    "mat_file_list=['arrhythmia.mat','cardio.mat','glass.mat','ionosphere.mat','letter.mat','lympho.mat','mnist.mat','musk.mat',\n",
    "              'optdigits.mat','pendigits.mat','pima.mat','satellite.mat','satimage-2.mat','shuttle.mat','vertebral.mat','vowels.mat',\n",
    "              'wbc.mat']"
   ]
  },
  {
   "cell_type": "code",
   "execution_count": 25,
   "metadata": {},
   "outputs": [
    {
     "name": "stdout",
     "output_type": "stream",
     "text": [
      "Processing arrhythmia.mat ..\n",
      "Angle based outlier detection(ABOD) ROC:0.8035, precision @ rank n:0.3462, execution time: 0.2622s\n",
      "Cluster based local outlier factor(CBLOF) ROC:0.8102, precision @ rank n:0.5385, execution time: 0.3068s\n",
      "Feature bagging ROC:0.804, precision @ rank n:0.5, execution time: 1.0216s\n",
      "Histogram based outlier detection(HBOS) ROC:0.8608, precision @ rank n:0.5385, execution time: 0.1203s\n",
      "Isolation Forest ROC:0.8092, precision @ rank n:0.5385, execution time: 0.5676s\n",
      "KNN ROC:0.8176, precision @ rank n:0.5, execution time: 0.2117s\n",
      "Local outlier factor ROC:0.8082, precision @ rank n:0.5, execution time: 0.1899s\n"
     ]
    },
    {
     "name": "stderr",
     "output_type": "stream",
     "text": [
      "C:\\ProgramData\\Anaconda3\\lib\\site-packages\\sklearn\\covariance\\robust_covariance.py:622: UserWarning: The covariance matrix associated to your dataset is not full rank\n",
      "  warnings.warn(\"The covariance matrix associated to your dataset \"\n"
     ]
    },
    {
     "name": "stdout",
     "output_type": "stream",
     "text": [
      "Minimum covariance determinant(MCD) ROC:0.8464, precision @ rank n:0.5, execution time: 1.4259s\n",
      "One class SVM(OCSVM) ROC:0.8102, precision @ rank n:0.5, execution time: 0.1179s\n",
      "Principal component analysis(PCA) ROC:0.8164, precision @ rank n:0.5, execution time: 0.1337s\n",
      "Processing cardio.mat ..\n",
      "Angle based outlier detection(ABOD) ROC:0.5783, precision @ rank n:0.2388, execution time: 1.0709s\n",
      "Cluster based local outlier factor(CBLOF) ROC:0.7488, precision @ rank n:0.2836, execution time: 0.3162s\n",
      "Feature bagging ROC:0.6352, precision @ rank n:0.1791, execution time: 1.6513s\n",
      "Histogram based outlier detection(HBOS) ROC:0.8435, precision @ rank n:0.4627, execution time: 0.016s\n",
      "Isolation Forest ROC:0.9292, precision @ rank n:0.4925, execution time: 0.6086s\n",
      "KNN ROC:0.7309, precision @ rank n:0.2836, execution time: 0.3831s\n",
      "Local outlier factor ROC:0.6078, precision @ rank n:0.194, execution time: 0.208s\n"
     ]
    },
    {
     "name": "stderr",
     "output_type": "stream",
     "text": [
      "C:\\ProgramData\\Anaconda3\\lib\\site-packages\\sklearn\\covariance\\robust_covariance.py:622: UserWarning: The covariance matrix associated to your dataset is not full rank\n",
      "  warnings.warn(\"The covariance matrix associated to your dataset \"\n",
      "C:\\ProgramData\\Anaconda3\\lib\\site-packages\\sklearn\\covariance\\robust_covariance.py:165: RuntimeWarning: Warning! det > previous_det (-152.153389035376364 > -251.133615685855716)\n",
      "  % (det, previous_det), RuntimeWarning)\n",
      "C:\\ProgramData\\Anaconda3\\lib\\site-packages\\sklearn\\covariance\\robust_covariance.py:165: RuntimeWarning: Warning! det > previous_det (-153.124633442918082 > -248.857697717310401)\n",
      "  % (det, previous_det), RuntimeWarning)\n",
      "C:\\ProgramData\\Anaconda3\\lib\\site-packages\\sklearn\\covariance\\robust_covariance.py:165: RuntimeWarning: Warning! det > previous_det (-151.033690762432428 > -248.529549161825088)\n",
      "  % (det, previous_det), RuntimeWarning)\n"
     ]
    },
    {
     "name": "stdout",
     "output_type": "stream",
     "text": [
      "Minimum covariance determinant(MCD) ROC:0.7765, precision @ rank n:0.403, execution time: 1.3542s\n",
      "One class SVM(OCSVM) ROC:0.928, precision @ rank n:0.4179, execution time: 0.1786s\n",
      "Principal component analysis(PCA) ROC:0.9454, precision @ rank n:0.5522, execution time: 0.009s\n",
      "Processing glass.mat ..\n",
      "Angle based outlier detection(ABOD) ROC:0.6546, precision @ rank n:0.0, execution time: 0.0945s\n",
      "Cluster based local outlier factor(CBLOF) ROC:0.8594, precision @ rank n:0.0, execution time: 0.0741s\n",
      "Feature bagging ROC:0.8996, precision @ rank n:0.3333, execution time: 0.0918s\n",
      "Histogram based outlier detection(HBOS) ROC:0.6707, precision @ rank n:0.0, execution time: 0.007s\n",
      "Isolation Forest ROC:0.6466, precision @ rank n:0.0, execution time: 0.4069s\n",
      "KNN ROC:0.8072, precision @ rank n:0.0, execution time: 0.014s\n",
      "Local outlier factor ROC:0.9116, precision @ rank n:0.3333, execution time: 0.004s\n",
      "Minimum covariance determinant(MCD) ROC:0.759, precision @ rank n:0.0, execution time: 0.1098s\n",
      "One class SVM(OCSVM) ROC:0.3534, precision @ rank n:0.0, execution time: 0.005s\n"
     ]
    },
    {
     "name": "stderr",
     "output_type": "stream",
     "text": [
      "C:\\ProgramData\\Anaconda3\\lib\\site-packages\\sklearn\\covariance\\robust_covariance.py:165: RuntimeWarning: Warning! det > previous_det (-30.404875793751540 > -96.582350411166431)\n",
      "  % (det, previous_det), RuntimeWarning)\n",
      "C:\\ProgramData\\Anaconda3\\lib\\site-packages\\sklearn\\covariance\\robust_covariance.py:165: RuntimeWarning: Warning! det > previous_det (-30.494980378853128 > -96.789713956016698)\n",
      "  % (det, previous_det), RuntimeWarning)\n",
      "C:\\ProgramData\\Anaconda3\\lib\\site-packages\\sklearn\\covariance\\robust_covariance.py:165: RuntimeWarning: Warning! det > previous_det (-30.404875793751540 > -96.429143164851396)\n",
      "  % (det, previous_det), RuntimeWarning)\n",
      "C:\\ProgramData\\Anaconda3\\lib\\site-packages\\sklearn\\covariance\\robust_covariance.py:165: RuntimeWarning: Warning! det > previous_det (-30.351773732451392 > -96.609134818873940)\n",
      "  % (det, previous_det), RuntimeWarning)\n",
      "C:\\ProgramData\\Anaconda3\\lib\\site-packages\\sklearn\\covariance\\robust_covariance.py:165: RuntimeWarning: Warning! det > previous_det (-30.426795834503856 > -96.729772840578590)\n",
      "  % (det, previous_det), RuntimeWarning)\n"
     ]
    },
    {
     "name": "stdout",
     "output_type": "stream",
     "text": [
      "Principal component analysis(PCA) ROC:0.4578, precision @ rank n:0.0, execution time: 0.0492s\n",
      "Processing ionosphere.mat ..\n",
      "Angle based outlier detection(ABOD) ROC:0.9532, precision @ rank n:0.8929, execution time: 0.1874s\n",
      "Cluster based local outlier factor(CBLOF) ROC:0.8954, precision @ rank n:0.7193, execution time: 0.1023s\n",
      "Feature bagging ROC:0.8985, precision @ rank n:0.7193, execution time: 0.1846s\n",
      "Histogram based outlier detection(HBOS) ROC:0.5792, precision @ rank n:0.4211, execution time: 0.0189s\n",
      "Isolation Forest ROC:0.8296, precision @ rank n:0.614, execution time: 0.5309s\n",
      "KNN ROC:0.9365, precision @ rank n:0.8596, execution time: 0.036s\n",
      "Local outlier factor ROC:0.9046, precision @ rank n:0.7544, execution time: 0.015s\n",
      "Minimum covariance determinant(MCD) ROC:0.9714, precision @ rank n:0.9123, execution time: 0.164s\n",
      "One class SVM(OCSVM) ROC:0.8584, precision @ rank n:0.7193, execution time: 0.007s\n",
      "Principal component analysis(PCA) ROC:0.7786, precision @ rank n:0.5965, execution time: 0.0058s\n",
      "Processing letter.mat ..\n"
     ]
    },
    {
     "name": "stderr",
     "output_type": "stream",
     "text": [
      "C:\\ProgramData\\Anaconda3\\lib\\site-packages\\sklearn\\utils\\validation.py:475: DataConversionWarning: Data with input dtype uint8 was converted to float64 by StandardScaler.\n",
      "  warnings.warn(msg, DataConversionWarning)\n"
     ]
    },
    {
     "name": "stdout",
     "output_type": "stream",
     "text": [
      "Angle based outlier detection(ABOD) ROC:0.852, precision @ rank n:0.3902, execution time: 0.9383s\n",
      "Cluster based local outlier factor(CBLOF) ROC:0.7475, precision @ rank n:0.2195, execution time: 0.285s\n",
      "Feature bagging ROC:0.8677, precision @ rank n:0.3902, execution time: 1.4484s\n",
      "Histogram based outlier detection(HBOS) ROC:0.5857, precision @ rank n:0.0244, execution time: 0.0199s\n",
      "Isolation Forest ROC:0.6144, precision @ rank n:0.1463, execution time: 0.6401s\n",
      "KNN ROC:0.8564, precision @ rank n:0.2927, execution time: 0.3307s\n",
      "Local outlier factor ROC:0.8523, precision @ rank n:0.3902, execution time: 0.1912s\n",
      "Minimum covariance determinant(MCD) ROC:0.7883, precision @ rank n:0.122, execution time: 2.6386s\n",
      "One class SVM(OCSVM) ROC:0.5859, precision @ rank n:0.122, execution time: 0.2321s\n",
      "Principal component analysis(PCA) ROC:0.5073, precision @ rank n:0.0732, execution time: 0.01s\n",
      "Processing lympho.mat ..\n",
      "Angle based outlier detection(ABOD) ROC:0.9831, precision @ rank n:0.0, execution time: 0.0575s\n",
      "Cluster based local outlier factor(CBLOF) ROC:1.0, precision @ rank n:1.0, execution time: 0.0919s\n",
      "Feature bagging ROC:1.0, precision @ rank n:1.0, execution time: 0.0628s\n",
      "Histogram based outlier detection(HBOS) ROC:1.0, precision @ rank n:1.0, execution time: 0.0125s\n",
      "Isolation Forest ROC:1.0, precision @ rank n:1.0, execution time: 0.3939s\n",
      "KNN ROC:1.0, precision @ rank n:1.0, execution time: 0.011s\n",
      "Local outlier factor ROC:1.0, precision @ rank n:1.0, execution time: 0.003s\n",
      "Minimum covariance determinant(MCD) ROC:0.9492, precision @ rank n:0.0, execution time: 0.0817s\n",
      "One class SVM(OCSVM) ROC:1.0, precision @ rank n:1.0, execution time: 0.004s\n",
      "Principal component analysis(PCA) ROC:1.0, precision @ rank n:1.0, execution time: 0.0039s\n",
      "Processing mnist.mat ..\n"
     ]
    },
    {
     "name": "stderr",
     "output_type": "stream",
     "text": [
      "C:\\ProgramData\\Anaconda3\\lib\\site-packages\\sklearn\\covariance\\robust_covariance.py:165: RuntimeWarning: Warning! det > previous_det (-84.009354869406991 > -116.566353340321527)\n",
      "  % (det, previous_det), RuntimeWarning)\n"
     ]
    },
    {
     "name": "stdout",
     "output_type": "stream",
     "text": [
      "Angle based outlier detection(ABOD) ROC:0.7936, precision @ rank n:0.3548, execution time: 15.8009s\n",
      "Cluster based local outlier factor(CBLOF) ROC:0.8612, precision @ rank n:0.4516, execution time: 2.9692s\n",
      "Feature bagging ROC:0.7408, precision @ rank n:0.3548, execution time: 110.4145s\n",
      "Histogram based outlier detection(HBOS) ROC:0.5828, precision @ rank n:0.1613, execution time: 0.1293s\n",
      "Isolation Forest ROC:0.8129, precision @ rank n:0.3154, execution time: 4.0257s\n",
      "KNN ROC:0.8592, precision @ rank n:0.4409, execution time: 13.7532s\n",
      "Local outlier factor ROC:0.732, precision @ rank n:0.3477, execution time: 13.6127s\n"
     ]
    },
    {
     "name": "stderr",
     "output_type": "stream",
     "text": [
      "C:\\ProgramData\\Anaconda3\\lib\\site-packages\\sklearn\\covariance\\robust_covariance.py:622: UserWarning: The covariance matrix associated to your dataset is not full rank\n",
      "  warnings.warn(\"The covariance matrix associated to your dataset \"\n"
     ]
    },
    {
     "name": "stdout",
     "output_type": "stream",
     "text": [
      "Minimum covariance determinant(MCD) ROC:0.8666, precision @ rank n:0.172, execution time: 6.3769s\n",
      "One class SVM(OCSVM) ROC:0.8728, precision @ rank n:0.4409, execution time: 10.0449s\n",
      "Principal component analysis(PCA) ROC:0.8713, precision @ rank n:0.4301, execution time: 0.3824s\n",
      "Processing musk.mat ..\n",
      "Angle based outlier detection(ABOD) ROC:0.1127, precision @ rank n:0.0, execution time: 4.7074s\n",
      "Cluster based local outlier factor(CBLOF) ROC:1.0, precision @ rank n:1.0, execution time: 0.8411s\n",
      "Feature bagging ROC:0.3838, precision @ rank n:0.1667, execution time: 23.0968s\n",
      "Histogram based outlier detection(HBOS) ROC:1.0, precision @ rank n:0.9722, execution time: 0.1058s\n",
      "Isolation Forest ROC:0.998, precision @ rank n:0.8571, execution time: 2.1608s\n",
      "KNN ROC:0.7583, precision @ rank n:0.2222, execution time: 3.867s\n",
      "Local outlier factor ROC:0.3941, precision @ rank n:0.0833, execution time: 3.5882s\n",
      "Minimum covariance determinant(MCD) ROC:1.0, precision @ rank n:1.0, execution time: 25.4862s\n",
      "One class SVM(OCSVM) ROC:1.0, precision @ rank n:1.0, execution time: 2.5934s\n",
      "Principal component analysis(PCA) ROC:0.9999, precision @ rank n:0.9444, execution time: 0.2811s\n",
      "Processing optdigits.mat ..\n",
      "Angle based outlier detection(ABOD) ROC:0.4455, precision @ rank n:0.0, execution time: 5.3677s\n",
      "Cluster based local outlier factor(CBLOF) ROC:0.7561, precision @ rank n:0.0, execution time: 0.9493s\n",
      "Feature bagging ROC:0.4841, precision @ rank n:0.0179, execution time: 29.3478s\n",
      "Histogram based outlier detection(HBOS) ROC:0.867, precision @ rank n:0.1964, execution time: 0.0618s\n",
      "Isolation Forest ROC:0.6872, precision @ rank n:0.0179, execution time: 1.7398s\n",
      "KNN ROC:0.364, precision @ rank n:0.0, execution time: 4.0443s\n",
      "Local outlier factor ROC:0.4871, precision @ rank n:0.0179, execution time: 3.5542s\n"
     ]
    },
    {
     "name": "stderr",
     "output_type": "stream",
     "text": [
      "C:\\ProgramData\\Anaconda3\\lib\\site-packages\\sklearn\\covariance\\robust_covariance.py:622: UserWarning: The covariance matrix associated to your dataset is not full rank\n",
      "  warnings.warn(\"The covariance matrix associated to your dataset \"\n"
     ]
    },
    {
     "name": "stdout",
     "output_type": "stream",
     "text": [
      "Minimum covariance determinant(MCD) ROC:0.3972, precision @ rank n:0.0, execution time: 2.593s\n",
      "One class SVM(OCSVM) ROC:0.5132, precision @ rank n:0.0, execution time: 3.0957s\n",
      "Principal component analysis(PCA) ROC:0.5126, precision @ rank n:0.0, execution time: 0.1481s\n",
      "Processing pendigits.mat ..\n",
      "Angle based outlier detection(ABOD) ROC:0.7344, precision @ rank n:0.0364, execution time: 3.3249s\n",
      "Cluster based local outlier factor(CBLOF) ROC:0.8279, precision @ rank n:0.2182, execution time: 0.4757s\n",
      "Feature bagging ROC:0.5345, precision @ rank n:0.0545, execution time: 8.0581s\n",
      "Histogram based outlier detection(HBOS) ROC:0.9335, precision @ rank n:0.3455, execution time: 0.0249s\n",
      "Isolation Forest ROC:0.9531, precision @ rank n:0.3273, execution time: 1.2979s\n",
      "KNN ROC:0.7819, precision @ rank n:0.0909, execution time: 1.3259s\n",
      "Local outlier factor ROC:0.5243, precision @ rank n:0.0727, execution time: 1.2817s\n",
      "Minimum covariance determinant(MCD) ROC:0.8389, precision @ rank n:0.0909, execution time: 4.5602s\n",
      "One class SVM(OCSVM) ROC:0.939, precision @ rank n:0.3818, execution time: 2.0326s\n",
      "Principal component analysis(PCA) ROC:0.9376, precision @ rank n:0.3273, execution time: 0.0635s\n",
      "Processing pima.mat ..\n",
      "Angle based outlier detection(ABOD) ROC:0.6487, precision @ rank n:0.466, execution time: 0.3209s\n",
      "Cluster based local outlier factor(CBLOF) ROC:0.6592, precision @ rank n:0.4757, execution time: 0.1303s\n",
      "Feature bagging ROC:0.5988, precision @ rank n:0.4272, execution time: 0.2039s\n",
      "Histogram based outlier detection(HBOS) ROC:0.6756, precision @ rank n:0.5243, execution time: 0.004s\n",
      "Isolation Forest ROC:0.6481, precision @ rank n:0.5146, execution time: 0.4875s\n",
      "KNN ROC:0.6968, precision @ rank n:0.5437, execution time: 0.091s\n",
      "Local outlier factor ROC:0.6034, precision @ rank n:0.3981, execution time: 0.0199s\n",
      "Minimum covariance determinant(MCD) ROC:0.6746, precision @ rank n:0.4951, execution time: 0.1313s\n",
      "One class SVM(OCSVM) ROC:0.5806, precision @ rank n:0.4369, execution time: 0.026s\n",
      "Principal component analysis(PCA) ROC:0.6199, precision @ rank n:0.466, execution time: 0.004s\n",
      "Processing satellite.mat ..\n"
     ]
    },
    {
     "name": "stderr",
     "output_type": "stream",
     "text": [
      "C:\\ProgramData\\Anaconda3\\lib\\site-packages\\sklearn\\utils\\validation.py:475: DataConversionWarning: Data with input dtype uint8 was converted to float64 by StandardScaler.\n",
      "  warnings.warn(msg, DataConversionWarning)\n"
     ]
    },
    {
     "name": "stdout",
     "output_type": "stream",
     "text": [
      "Angle based outlier detection(ABOD) ROC:0.5781, precision @ rank n:0.399, execution time: 4.182s\n",
      "Cluster based local outlier factor(CBLOF) ROC:0.7182, precision @ rank n:0.5459, execution time: 0.86s\n",
      "Feature bagging ROC:0.5608, precision @ rank n:0.388, execution time: 15.748s\n",
      "Histogram based outlier detection(HBOS) ROC:0.7461, precision @ rank n:0.5483, execution time: 0.0518s\n",
      "Isolation Forest ROC:0.6613, precision @ rank n:0.5251, execution time: 1.5647s\n",
      "KNN ROC:0.686, precision @ rank n:0.4896, execution time: 2.4318s\n",
      "Local outlier factor ROC:0.5644, precision @ rank n:0.3929, execution time: 2.2785s\n",
      "Minimum covariance determinant(MCD) ROC:0.7988, precision @ rank n:0.6671, execution time: 5.0363s\n",
      "One class SVM(OCSVM) ROC:0.6405, precision @ rank n:0.5177, execution time: 2.8268s\n",
      "Principal component analysis(PCA) ROC:0.5777, precision @ rank n:0.4676, execution time: 0.0654s\n",
      "Processing satimage-2.mat ..\n",
      "Angle based outlier detection(ABOD) ROC:0.8346, precision @ rank n:0.3125, execution time: 4.6757s\n",
      "Cluster based local outlier factor(CBLOF) ROC:0.999, precision @ rank n:0.9375, execution time: 0.8161s\n",
      "Feature bagging ROC:0.4554, precision @ rank n:0.0312, execution time: 14.7669s\n",
      "Histogram based outlier detection(HBOS) ROC:0.9829, precision @ rank n:0.7188, execution time: 0.0519s\n",
      "Isolation Forest ROC:0.9935, precision @ rank n:0.875, execution time: 1.6328s\n",
      "KNN ROC:0.9564, precision @ rank n:0.4062, execution time: 2.4749s\n",
      "Local outlier factor ROC:0.4542, precision @ rank n:0.0312, execution time: 2.1197s\n",
      "Minimum covariance determinant(MCD) ROC:0.9966, precision @ rank n:0.6875, execution time: 4.9266s\n",
      "One class SVM(OCSVM) ROC:0.9981, precision @ rank n:0.9375, execution time: 2.7072s\n",
      "Principal component analysis(PCA) ROC:0.9863, precision @ rank n:0.8125, execution time: 0.0468s\n",
      "Processing shuttle.mat ..\n"
     ]
    },
    {
     "name": "stderr",
     "output_type": "stream",
     "text": [
      "C:\\ProgramData\\Anaconda3\\lib\\site-packages\\sklearn\\utils\\validation.py:475: DataConversionWarning: Data with input dtype int16 was converted to float64 by StandardScaler.\n",
      "  warnings.warn(msg, DataConversionWarning)\n"
     ]
    },
    {
     "name": "stdout",
     "output_type": "stream",
     "text": [
      "Angle based outlier detection(ABOD) ROC:0.6326, precision @ rank n:0.2085, execution time: 33.7649s\n",
      "Cluster based local outlier factor(CBLOF) ROC:0.601, precision @ rank n:0.2734, execution time: 2.1913s\n",
      "Feature bagging ROC:0.4416, precision @ rank n:0.0195, execution time: 119.4036s\n",
      "Histogram based outlier detection(HBOS) ROC:0.9882, precision @ rank n:0.9348, execution time: 0.0382s\n",
      "Isolation Forest ROC:0.9959, precision @ rank n:0.9603, execution time: 6.6179s\n",
      "KNN ROC:0.6617, precision @ rank n:0.2233, execution time: 17.0952s\n",
      "Local outlier factor ROC:0.5249, precision @ rank n:0.1374, execution time: 22.4345s\n"
     ]
    },
    {
     "name": "stderr",
     "output_type": "stream",
     "text": [
      "C:\\ProgramData\\Anaconda3\\lib\\site-packages\\sklearn\\covariance\\robust_covariance.py:165: RuntimeWarning: Warning! det > previous_det (-49.017135173908585 > -75.821118329156164)\n",
      "  % (det, previous_det), RuntimeWarning)\n",
      "C:\\ProgramData\\Anaconda3\\lib\\site-packages\\sklearn\\covariance\\robust_covariance.py:165: RuntimeWarning: Warning! det > previous_det (-48.964475974812970 > -76.042798063569563)\n",
      "  % (det, previous_det), RuntimeWarning)\n",
      "C:\\ProgramData\\Anaconda3\\lib\\site-packages\\sklearn\\covariance\\robust_covariance.py:165: RuntimeWarning: Warning! det > previous_det (-49.091020181851121 > -75.551173091310517)\n",
      "  % (det, previous_det), RuntimeWarning)\n",
      "C:\\ProgramData\\Anaconda3\\lib\\site-packages\\sklearn\\covariance\\robust_covariance.py:165: RuntimeWarning: Warning! det > previous_det (-49.863005166647042 > -74.599558709585608)\n",
      "  % (det, previous_det), RuntimeWarning)\n",
      "C:\\ProgramData\\Anaconda3\\lib\\site-packages\\sklearn\\covariance\\robust_covariance.py:165: RuntimeWarning: Warning! det > previous_det (-50.122352656682168 > -77.336246479937088)\n",
      "  % (det, previous_det), RuntimeWarning)\n",
      "C:\\ProgramData\\Anaconda3\\lib\\site-packages\\sklearn\\covariance\\robust_covariance.py:165: RuntimeWarning: Warning! det > previous_det (-50.463643183866374 > -79.809642101605647)\n",
      "  % (det, previous_det), RuntimeWarning)\n",
      "C:\\ProgramData\\Anaconda3\\lib\\site-packages\\sklearn\\covariance\\robust_covariance.py:165: RuntimeWarning: Warning! det > previous_det (-50.504951805648815 > -77.433497419889392)\n",
      "  % (det, previous_det), RuntimeWarning)\n",
      "C:\\ProgramData\\Anaconda3\\lib\\site-packages\\sklearn\\covariance\\robust_covariance.py:165: RuntimeWarning: Warning! det > previous_det (-50.392364943057693 > -78.870087816668359)\n",
      "  % (det, previous_det), RuntimeWarning)\n",
      "C:\\ProgramData\\Anaconda3\\lib\\site-packages\\sklearn\\covariance\\robust_covariance.py:165: RuntimeWarning: Warning! det > previous_det (-49.594943102443992 > -75.850759558567972)\n",
      "  % (det, previous_det), RuntimeWarning)\n",
      "C:\\ProgramData\\Anaconda3\\lib\\site-packages\\sklearn\\covariance\\robust_covariance.py:165: RuntimeWarning: Warning! det > previous_det (-50.280104169312473 > -75.996846037542653)\n",
      "  % (det, previous_det), RuntimeWarning)\n",
      "C:\\ProgramData\\Anaconda3\\lib\\site-packages\\sklearn\\covariance\\robust_covariance.py:165: RuntimeWarning: Warning! det > previous_det (-50.577092525528073 > -78.486860320379222)\n",
      "  % (det, previous_det), RuntimeWarning)\n",
      "C:\\ProgramData\\Anaconda3\\lib\\site-packages\\sklearn\\covariance\\robust_covariance.py:165: RuntimeWarning: Warning! det > previous_det (-49.605034138715951 > -76.401203763336639)\n",
      "  % (det, previous_det), RuntimeWarning)\n",
      "C:\\ProgramData\\Anaconda3\\lib\\site-packages\\sklearn\\covariance\\robust_covariance.py:165: RuntimeWarning: Warning! det > previous_det (-50.172560722738496 > -76.403503092784760)\n",
      "  % (det, previous_det), RuntimeWarning)\n",
      "C:\\ProgramData\\Anaconda3\\lib\\site-packages\\sklearn\\covariance\\robust_covariance.py:165: RuntimeWarning: Warning! det > previous_det (-50.586652483947404 > -76.812393418760479)\n",
      "  % (det, previous_det), RuntimeWarning)\n",
      "C:\\ProgramData\\Anaconda3\\lib\\site-packages\\sklearn\\covariance\\robust_covariance.py:165: RuntimeWarning: Warning! det > previous_det (-49.917948685291670 > -77.082886823296107)\n",
      "  % (det, previous_det), RuntimeWarning)\n",
      "C:\\ProgramData\\Anaconda3\\lib\\site-packages\\sklearn\\covariance\\robust_covariance.py:165: RuntimeWarning: Warning! det > previous_det (-50.169431973531069 > -75.433345219120895)\n",
      "  % (det, previous_det), RuntimeWarning)\n",
      "C:\\ProgramData\\Anaconda3\\lib\\site-packages\\sklearn\\covariance\\robust_covariance.py:165: RuntimeWarning: Warning! det > previous_det (-49.875477498456121 > -76.058137667125223)\n",
      "  % (det, previous_det), RuntimeWarning)\n",
      "C:\\ProgramData\\Anaconda3\\lib\\site-packages\\sklearn\\covariance\\robust_covariance.py:165: RuntimeWarning: Warning! det > previous_det (-51.019638046514956 > -78.993253810682177)\n",
      "  % (det, previous_det), RuntimeWarning)\n",
      "C:\\ProgramData\\Anaconda3\\lib\\site-packages\\sklearn\\covariance\\robust_covariance.py:165: RuntimeWarning: Warning! det > previous_det (-50.205774564659350 > -77.555842180929488)\n",
      "  % (det, previous_det), RuntimeWarning)\n",
      "C:\\ProgramData\\Anaconda3\\lib\\site-packages\\sklearn\\covariance\\robust_covariance.py:165: RuntimeWarning: Warning! det > previous_det (-50.183244674087796 > -78.652190843586922)\n",
      "  % (det, previous_det), RuntimeWarning)\n",
      "C:\\ProgramData\\Anaconda3\\lib\\site-packages\\sklearn\\covariance\\robust_covariance.py:165: RuntimeWarning: Warning! det > previous_det (-50.108981844255780 > -76.508557737224152)\n",
      "  % (det, previous_det), RuntimeWarning)\n",
      "C:\\ProgramData\\Anaconda3\\lib\\site-packages\\sklearn\\covariance\\robust_covariance.py:165: RuntimeWarning: Warning! det > previous_det (-50.237299226039511 > -77.061295164714394)\n",
      "  % (det, previous_det), RuntimeWarning)\n",
      "C:\\ProgramData\\Anaconda3\\lib\\site-packages\\sklearn\\covariance\\robust_covariance.py:165: RuntimeWarning: Warning! det > previous_det (-50.235349212243548 > -78.851873005929178)\n",
      "  % (det, previous_det), RuntimeWarning)\n",
      "C:\\ProgramData\\Anaconda3\\lib\\site-packages\\sklearn\\covariance\\robust_covariance.py:165: RuntimeWarning: Warning! det > previous_det (-50.078036973139959 > -76.659054024593800)\n",
      "  % (det, previous_det), RuntimeWarning)\n",
      "C:\\ProgramData\\Anaconda3\\lib\\site-packages\\sklearn\\covariance\\robust_covariance.py:165: RuntimeWarning: Warning! det > previous_det (-50.307012744382405 > -76.421718275764320)\n",
      "  % (det, previous_det), RuntimeWarning)\n",
      "C:\\ProgramData\\Anaconda3\\lib\\site-packages\\sklearn\\covariance\\robust_covariance.py:165: RuntimeWarning: Warning! det > previous_det (-50.877670274861906 > -77.730066227130479)\n",
      "  % (det, previous_det), RuntimeWarning)\n",
      "C:\\ProgramData\\Anaconda3\\lib\\site-packages\\sklearn\\covariance\\robust_covariance.py:165: RuntimeWarning: Warning! det > previous_det (-50.141294652602213 > -77.019492955621701)\n",
      "  % (det, previous_det), RuntimeWarning)\n",
      "C:\\ProgramData\\Anaconda3\\lib\\site-packages\\sklearn\\covariance\\robust_covariance.py:165: RuntimeWarning: Warning! det > previous_det (-50.165836836489483 > -77.626217733050566)\n",
      "  % (det, previous_det), RuntimeWarning)\n",
      "C:\\ProgramData\\Anaconda3\\lib\\site-packages\\sklearn\\covariance\\robust_covariance.py:165: RuntimeWarning: Warning! det > previous_det (-50.146137015189638 > -76.667266292836715)\n",
      "  % (det, previous_det), RuntimeWarning)\n",
      "C:\\ProgramData\\Anaconda3\\lib\\site-packages\\sklearn\\covariance\\robust_covariance.py:165: RuntimeWarning: Warning! det > previous_det (-50.650918041909627 > -76.217002237320941)\n",
      "  % (det, previous_det), RuntimeWarning)\n",
      "C:\\ProgramData\\Anaconda3\\lib\\site-packages\\sklearn\\covariance\\robust_covariance.py:165: RuntimeWarning: Warning! det > previous_det (-50.072378129045632 > -75.781689408226327)\n",
      "  % (det, previous_det), RuntimeWarning)\n",
      "C:\\ProgramData\\Anaconda3\\lib\\site-packages\\sklearn\\covariance\\robust_covariance.py:165: RuntimeWarning: Warning! det > previous_det (-50.497778541691346 > -77.779873792401048)\n",
      "  % (det, previous_det), RuntimeWarning)\n",
      "C:\\ProgramData\\Anaconda3\\lib\\site-packages\\sklearn\\covariance\\robust_covariance.py:165: RuntimeWarning: Warning! det > previous_det (-50.703272514077611 > -79.272905826799445)\n",
      "  % (det, previous_det), RuntimeWarning)\n",
      "C:\\ProgramData\\Anaconda3\\lib\\site-packages\\sklearn\\covariance\\robust_covariance.py:165: RuntimeWarning: Warning! det > previous_det (-49.417049673217697 > -75.793924318104800)\n",
      "  % (det, previous_det), RuntimeWarning)\n",
      "C:\\ProgramData\\Anaconda3\\lib\\site-packages\\sklearn\\covariance\\robust_covariance.py:165: RuntimeWarning: Warning! det > previous_det (-50.179267931504832 > -76.254432894628152)\n",
      "  % (det, previous_det), RuntimeWarning)\n",
      "C:\\ProgramData\\Anaconda3\\lib\\site-packages\\sklearn\\covariance\\robust_covariance.py:165: RuntimeWarning: Warning! det > previous_det (-50.066232635162422 > -75.804479242587021)\n",
      "  % (det, previous_det), RuntimeWarning)\n",
      "C:\\ProgramData\\Anaconda3\\lib\\site-packages\\sklearn\\covariance\\robust_covariance.py:165: RuntimeWarning: Warning! det > previous_det (-50.765291585742276 > -76.920852134821502)\n",
      "  % (det, previous_det), RuntimeWarning)\n",
      "C:\\ProgramData\\Anaconda3\\lib\\site-packages\\sklearn\\covariance\\robust_covariance.py:165: RuntimeWarning: Warning! det > previous_det (-50.017507659038593 > -76.433017529962626)\n",
      "  % (det, previous_det), RuntimeWarning)\n",
      "C:\\ProgramData\\Anaconda3\\lib\\site-packages\\sklearn\\covariance\\robust_covariance.py:165: RuntimeWarning: Warning! det > previous_det (-49.468894143940823 > -75.973637056605497)\n",
      "  % (det, previous_det), RuntimeWarning)\n"
     ]
    },
    {
     "name": "stderr",
     "output_type": "stream",
     "text": [
      "C:\\ProgramData\\Anaconda3\\lib\\site-packages\\sklearn\\covariance\\robust_covariance.py:165: RuntimeWarning: Warning! det > previous_det (-49.907890752606832 > -76.473093442706869)\n",
      "  % (det, previous_det), RuntimeWarning)\n",
      "C:\\ProgramData\\Anaconda3\\lib\\site-packages\\sklearn\\covariance\\robust_covariance.py:165: RuntimeWarning: Warning! det > previous_det (-50.616020052782680 > -77.029215127899889)\n",
      "  % (det, previous_det), RuntimeWarning)\n",
      "C:\\ProgramData\\Anaconda3\\lib\\site-packages\\sklearn\\covariance\\robust_covariance.py:165: RuntimeWarning: Warning! det > previous_det (-50.779036047925729 > -77.235385663255698)\n",
      "  % (det, previous_det), RuntimeWarning)\n",
      "C:\\ProgramData\\Anaconda3\\lib\\site-packages\\sklearn\\covariance\\robust_covariance.py:165: RuntimeWarning: Warning! det > previous_det (-50.296580960568448 > -76.300006300128842)\n",
      "  % (det, previous_det), RuntimeWarning)\n",
      "C:\\ProgramData\\Anaconda3\\lib\\site-packages\\sklearn\\covariance\\robust_covariance.py:165: RuntimeWarning: Warning! det > previous_det (-50.450855281329261 > -76.420504333291149)\n",
      "  % (det, previous_det), RuntimeWarning)\n",
      "C:\\ProgramData\\Anaconda3\\lib\\site-packages\\sklearn\\covariance\\robust_covariance.py:165: RuntimeWarning: Warning! det > previous_det (-50.514449102045660 > -76.400256600162336)\n",
      "  % (det, previous_det), RuntimeWarning)\n",
      "C:\\ProgramData\\Anaconda3\\lib\\site-packages\\sklearn\\covariance\\robust_covariance.py:165: RuntimeWarning: Warning! det > previous_det (-50.355431898446653 > -76.746712733367929)\n",
      "  % (det, previous_det), RuntimeWarning)\n"
     ]
    },
    {
     "name": "stdout",
     "output_type": "stream",
     "text": [
      "Minimum covariance determinant(MCD) ROC:0.9908, precision @ rank n:0.7615, execution time: 23.5402s\n",
      "One class SVM(OCSVM) ROC:0.9911, precision @ rank n:0.9519, execution time: 97.5249s\n",
      "Principal component analysis(PCA) ROC:0.989, precision @ rank n:0.9498, execution time: 0.0958s\n",
      "Processing vertebral.mat ..\n",
      "Angle based outlier detection(ABOD) ROC:0.4272, precision @ rank n:0.0, execution time: 0.1476s\n",
      "Cluster based local outlier factor(CBLOF) ROC:0.442, precision @ rank n:0.0, execution time: 0.1167s\n",
      "Feature bagging ROC:0.5012, precision @ rank n:0.0, execution time: 0.0955s\n",
      "Histogram based outlier detection(HBOS) ROC:0.3778, precision @ rank n:0.0, execution time: 0.0052s\n",
      "Isolation Forest ROC:0.4337, precision @ rank n:0.0, execution time: 0.4037s\n",
      "KNN ROC:0.437, precision @ rank n:0.0, execution time: 0.017s\n",
      "Local outlier factor ROC:0.4807, precision @ rank n:0.0, execution time: 0.0061s\n",
      "Minimum covariance determinant(MCD) ROC:0.4461, precision @ rank n:0.0, execution time: 0.1455s\n",
      "One class SVM(OCSVM) ROC:0.4881, precision @ rank n:0.0, execution time: 0.0041s"
     ]
    },
    {
     "name": "stderr",
     "output_type": "stream",
     "text": [
      "C:\\ProgramData\\Anaconda3\\lib\\site-packages\\sklearn\\covariance\\robust_covariance.py:165: RuntimeWarning: Warning! det > previous_det (-23.585498360269710 > -41.658348437252911)\n",
      "  % (det, previous_det), RuntimeWarning)\n"
     ]
    },
    {
     "name": "stdout",
     "output_type": "stream",
     "text": [
      "\n",
      "Principal component analysis(PCA) ROC:0.4272, precision @ rank n:0.0, execution time: 0.006s\n",
      "Processing vowels.mat ..\n",
      "Angle based outlier detection(ABOD) ROC:0.9538, precision @ rank n:0.5556, execution time: 0.6092s\n",
      "Cluster based local outlier factor(CBLOF) ROC:0.882, precision @ rank n:0.2778, execution time: 0.1836s\n",
      "Feature bagging ROC:0.9213, precision @ rank n:0.2778, execution time: 0.6196s\n",
      "Histogram based outlier detection(HBOS) ROC:0.6272, precision @ rank n:0.1667, execution time: 0.007s\n",
      "Isolation Forest ROC:0.7735, precision @ rank n:0.3333, execution time: 0.5599s\n",
      "KNN ROC:0.9751, precision @ rank n:0.5556, execution time: 0.1719s\n",
      "Local outlier factor ROC:0.9443, precision @ rank n:0.3333, execution time: 0.072s\n",
      "Minimum covariance determinant(MCD) ROC:0.6951, precision @ rank n:0.0, execution time: 1.8715s\n",
      "One class SVM(OCSVM) ROC:0.7615, precision @ rank n:0.3333, execution time: 0.0968s\n",
      "Principal component analysis(PCA) ROC:0.5799, precision @ rank n:0.1111, execution time: 0.006s\n",
      "Processing wbc.mat ..\n",
      "Angle based outlier detection(ABOD) ROC:0.8828, precision @ rank n:0.25, execution time: 0.1841s\n",
      "Cluster based local outlier factor(CBLOF) ROC:0.8707, precision @ rank n:0.375, execution time: 0.1208s\n",
      "Feature bagging ROC:0.9201, precision @ rank n:0.375, execution time: 0.1785s\n",
      "Histogram based outlier detection(HBOS) ROC:0.947, precision @ rank n:0.5, execution time: 0.0169s\n",
      "Isolation Forest ROC:0.9028, precision @ rank n:0.5, execution time: 0.3627s\n",
      "KNN ROC:0.9323, precision @ rank n:0.5, execution time: 0.0319s\n",
      "Local outlier factor ROC:0.9167, precision @ rank n:0.375, execution time: 0.0139s\n",
      "Minimum covariance determinant(MCD) ROC:0.9123, precision @ rank n:0.375, execution time: 0.1177s\n",
      "One class SVM(OCSVM) ROC:0.9184, precision @ rank n:0.5, execution time: 0.009s\n",
      "Principal component analysis(PCA) ROC:0.8898, precision @ rank n:0.5, execution time: 0.006s\n"
     ]
    }
   ],
   "source": [
    "for i in mat_file_list:\n",
    "    print('Processing',i,'..')\n",
    "    mat=loadmat(os.path.join('data',i))\n",
    "    X=mat['X']\n",
    "    y=mat['y'].ravel()\n",
    "    outlier_frac=np.count_nonzero(y)/len(y)\n",
    "    outlier_per=round(outlier_frac*100, ndigits=4)\n",
    "    \n",
    "    roc_list=[i[:-4],X.shape[0],X.shape[1],outlier_per]\n",
    "    prn_list=[i[:-4],X.shape[0],X.shape[1],outlier_per]\n",
    "    time_list=[i[:-4],X.shape[0],X.shape[1],outlier_per]\n",
    "    X_train,X_test,y_train,y_test=train_test_split(X,y,test_size=0.4,random_state=0)\n",
    "    X_train_norm,X_test_norm=standardizer(X_train,X_test)\n",
    "    \n",
    "    classifiers={'Angle based outlier detection(ABOD)': ABOD(contamination=outlier_frac),\n",
    "                'Cluster based local outlier factor(CBLOF)': CBLOF(contamination=outlier_frac,random_state=0),\n",
    "                'Feature bagging': FeatureBagging(contamination=outlier_frac,random_state=0),\n",
    "                'Histogram based outlier detection(HBOS)': HBOS(contamination=outlier_frac),\n",
    "                'Isolation Forest': IForest(contamination=outlier_frac,random_state=0),\n",
    "                'KNN': KNN(contamination=outlier_frac),\n",
    "                'Local outlier factor': LOF(contamination=outlier_frac),\n",
    "                'Minimum covariance determinant(MCD)': MCD(contamination=outlier_frac,random_state=0),\n",
    "                'One class SVM(OCSVM)': OCSVM(contamination=outlier_frac),\n",
    "                'Principal component analysis(PCA)': PCA(contamination=outlier_frac,random_state=0)}\n",
    "    \n",
    "    for clf_name, clf in classifiers.items():\n",
    "        t0=time()\n",
    "        clf.fit(X_train_norm)\n",
    "        test_score=clf.decision_function(X_test_norm)\n",
    "        t1=time()\n",
    "        duration=round(t1-t0, ndigits=4)\n",
    "        time_list.append(duration)\n",
    "        \n",
    "        roc=round(roc_auc_score(y_test,test_score), ndigits=4)\n",
    "        prn=round(precision_n_scores(y_test,test_score), ndigits=4)\n",
    "        \n",
    "        print('{clf_name} ROC:{roc}, precision @ rank n:{prn}, execution time: {duration}s'.format(clf_name=clf_name, roc=roc,\n",
    "                                                                                                  prn=prn, duration=duration))\n",
    "        roc_list.append(roc)\n",
    "        prn_list.append(prn)\n",
    "        \n",
    "    temp_df=pd.DataFrame(time_list).transpose()\n",
    "#     temp_df.columns=df_columns\n",
    "    time_df=pd.DataFrame()\n",
    "    time_df=pd.concat([time_df,temp_df],axis=0)\n",
    "    \n",
    "    temp_df=pd.DataFrame(roc_list).transpose()\n",
    "#     temp_df.columns=df_columns\n",
    "    roc_df=pd.DataFrame()\n",
    "    roc_df=pd.concat([roc_df,temp_df],axis=0)\n",
    "    \n",
    "    temp_df=pd.DataFrame(prn_list).transpose()\n",
    "#     temp_df.columns=df_columns\n",
    "    prn_df=pd.DataFrame()\n",
    "    prn_df=pd.concat([prn_df,temp_df],axis=0)\n",
    "        \n",
    "        "
   ]
  }
 ],
 "metadata": {
  "kernelspec": {
   "display_name": "Python 3",
   "language": "python",
   "name": "python3"
  },
  "language_info": {
   "codemirror_mode": {
    "name": "ipython",
    "version": 3
   },
   "file_extension": ".py",
   "mimetype": "text/x-python",
   "name": "python",
   "nbconvert_exporter": "python",
   "pygments_lexer": "ipython3",
   "version": "3.6.5"
  }
 },
 "nbformat": 4,
 "nbformat_minor": 2
}
