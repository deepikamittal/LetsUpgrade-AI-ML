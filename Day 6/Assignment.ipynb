{
 "cells": [
  {
   "cell_type": "markdown",
   "metadata": {},
   "source": [
    "__Question 1:__ Print company name from email address\n",
    "  "
   ]
  },
  {
   "cell_type": "code",
   "execution_count": 1,
   "metadata": {},
   "outputs": [
    {
     "name": "stdout",
     "output_type": "stream",
     "text": [
      "Enter the email id: deepika@gmail.com\n"
     ]
    },
    {
     "data": {
      "text/plain": [
       "'gmail'"
      ]
     },
     "execution_count": 1,
     "metadata": {},
     "output_type": "execute_result"
    }
   ],
   "source": [
    "Id=input('Enter the email id: ')\n",
    "Id.split('@')[1].split('.')[0]"
   ]
  },
  {
   "cell_type": "markdown",
   "metadata": {},
   "source": [
    "__Question 2:__ Sorting the sequence"
   ]
  },
  {
   "cell_type": "code",
   "execution_count": 2,
   "metadata": {},
   "outputs": [
    {
     "name": "stdout",
     "output_type": "stream",
     "text": [
      "Enter the sequence: hello,ai,ml,learners\n",
      "Sequence before sorting:  hello,ai,ml,learners\n",
      "ai,hello,learners,ml,"
     ]
    }
   ],
   "source": [
    "seq=input( 'Enter the sequence: ')\n",
    "seq1=seq.split(',')\n",
    "print('Sequence before sorting: ',seq)\n",
    "seq1.sort()\n",
    "for i in seq1:\n",
    "    print(i,end=',')"
   ]
  },
  {
   "cell_type": "markdown",
   "metadata": {},
   "source": [
    "__Question 3:__ Sets"
   ]
  },
  {
   "cell_type": "code",
   "execution_count": 3,
   "metadata": {},
   "outputs": [
    {
     "name": "stdout",
     "output_type": "stream",
     "text": [
      "{'yellow', 'green', 'blue', 'red'}\n",
      "{'yellow', 'red', 'green', 'black', 'blue'}\n",
      "{'yellow', 'white', 'purple', 'red', 'green', 'black', 'blue'}\n",
      "{'yellow', 'white', 'purple', 'red', 'green', 'black'}\n",
      "{'white', 'purple', 'red', 'green', 'black'}\n",
      "{1, 2, 'white', 3, 'red', 'black', 'green', 'purple'}\n",
      "set()\n"
     ]
    }
   ],
   "source": [
    "s1={'red','blue','green','yellow'}\n",
    "print(s1)\n",
    "s1.add('black')\n",
    "print(s1)\n",
    "s1.update(['purple','white'])\n",
    "print(s1)\n",
    "s1.remove('blue')\n",
    "print(s1)\n",
    "s1.pop()\n",
    "print(s1)\n",
    "\n",
    "s2={1,2,3}\n",
    "s3=s1.union(s2)\n",
    "print(s3)\n",
    "s2.clear()\n",
    "print(s2)"
   ]
  },
  {
   "cell_type": "markdown",
   "metadata": {},
   "source": [
    "__Question 4:__ Find missing number"
   ]
  },
  {
   "cell_type": "code",
   "execution_count": 4,
   "metadata": {},
   "outputs": [
    {
     "name": "stdout",
     "output_type": "stream",
     "text": [
      "Enter the numbers1 2 3 4 5 6 8 9 10 11 12\n",
      "7\n"
     ]
    }
   ],
   "source": [
    "l1=input('Enter the numbers')\n",
    "new_l1=l1.split()\n",
    "for i in range(1,len(new_l1)+2):\n",
    "    if str(i) not in new_l1:\n",
    "        print(i)"
   ]
  },
  {
   "cell_type": "markdown",
   "metadata": {},
   "source": [
    "__Question 5:__ Removing duplicates"
   ]
  },
  {
   "cell_type": "code",
   "execution_count": 5,
   "metadata": {},
   "outputs": [
    {
     "name": "stdout",
     "output_type": "stream",
     "text": [
      "Enter the numbers11 14 24 45 24 14 56 14\n",
      "['11', '14', '24', '45', '24', '14', '56', '14']\n",
      "11 14 24 45 56 "
     ]
    }
   ],
   "source": [
    "l2=input( 'Enter the numbers')\n",
    "l3=l2.split()\n",
    "print(l3)\n",
    "l4=[]\n",
    "for i in l3:\n",
    "    if int(i) not in l4:\n",
    "        l4.append(int(i))\n",
    "        print(int(i),end=' ')"
   ]
  }
 ],
 "metadata": {
  "kernelspec": {
   "display_name": "Python 3",
   "language": "python",
   "name": "python3"
  },
  "language_info": {
   "codemirror_mode": {
    "name": "ipython",
    "version": 3
   },
   "file_extension": ".py",
   "mimetype": "text/x-python",
   "name": "python",
   "nbconvert_exporter": "python",
   "pygments_lexer": "ipython3",
   "version": "3.6.5"
  }
 },
 "nbformat": 4,
 "nbformat_minor": 2
}
