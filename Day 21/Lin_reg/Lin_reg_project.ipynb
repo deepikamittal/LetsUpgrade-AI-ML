{
 "cells": [
  {
   "cell_type": "code",
   "execution_count": 18,
   "metadata": {},
   "outputs": [],
   "source": [
    "import pandas as pd\n",
    "import numpy as np\n",
    "import matplotlib.pyplot as plt\n",
    "import seaborn as sns\n",
    "import math as m\n"
   ]
  },
  {
   "cell_type": "code",
   "execution_count": 2,
   "metadata": {},
   "outputs": [],
   "source": [
    "price=pd.read_excel(r'C:\\Users\\prince.garg\\Desktop\\Deepika\\LetsUpgrade_AI_ML\\DATA\\Linear Regression.xlsx')"
   ]
  },
  {
   "cell_type": "code",
   "execution_count": 3,
   "metadata": {},
   "outputs": [
    {
     "data": {
      "text/html": [
       "<div>\n",
       "<style scoped>\n",
       "    .dataframe tbody tr th:only-of-type {\n",
       "        vertical-align: middle;\n",
       "    }\n",
       "\n",
       "    .dataframe tbody tr th {\n",
       "        vertical-align: top;\n",
       "    }\n",
       "\n",
       "    .dataframe thead th {\n",
       "        text-align: right;\n",
       "    }\n",
       "</style>\n",
       "<table border=\"1\" class=\"dataframe\">\n",
       "  <thead>\n",
       "    <tr style=\"text-align: right;\">\n",
       "      <th></th>\n",
       "      <th>price</th>\n",
       "      <th>sqft_living</th>\n",
       "      <th>bedrooms</th>\n",
       "      <th>bathrooms</th>\n",
       "      <th>floors</th>\n",
       "    </tr>\n",
       "  </thead>\n",
       "  <tbody>\n",
       "    <tr>\n",
       "      <th>0</th>\n",
       "      <td>221900</td>\n",
       "      <td>1180</td>\n",
       "      <td>3</td>\n",
       "      <td>1.00</td>\n",
       "      <td>1.0</td>\n",
       "    </tr>\n",
       "    <tr>\n",
       "      <th>1</th>\n",
       "      <td>538000</td>\n",
       "      <td>2570</td>\n",
       "      <td>3</td>\n",
       "      <td>2.25</td>\n",
       "      <td>2.0</td>\n",
       "    </tr>\n",
       "    <tr>\n",
       "      <th>2</th>\n",
       "      <td>180000</td>\n",
       "      <td>770</td>\n",
       "      <td>2</td>\n",
       "      <td>1.00</td>\n",
       "      <td>1.0</td>\n",
       "    </tr>\n",
       "    <tr>\n",
       "      <th>3</th>\n",
       "      <td>604000</td>\n",
       "      <td>1960</td>\n",
       "      <td>4</td>\n",
       "      <td>3.00</td>\n",
       "      <td>1.0</td>\n",
       "    </tr>\n",
       "    <tr>\n",
       "      <th>4</th>\n",
       "      <td>510000</td>\n",
       "      <td>1680</td>\n",
       "      <td>3</td>\n",
       "      <td>2.00</td>\n",
       "      <td>1.0</td>\n",
       "    </tr>\n",
       "  </tbody>\n",
       "</table>\n",
       "</div>"
      ],
      "text/plain": [
       "    price  sqft_living  bedrooms  bathrooms  floors\n",
       "0  221900         1180         3       1.00     1.0\n",
       "1  538000         2570         3       2.25     2.0\n",
       "2  180000          770         2       1.00     1.0\n",
       "3  604000         1960         4       3.00     1.0\n",
       "4  510000         1680         3       2.00     1.0"
      ]
     },
     "execution_count": 3,
     "metadata": {},
     "output_type": "execute_result"
    }
   ],
   "source": [
    "price.head()"
   ]
  },
  {
   "cell_type": "code",
   "execution_count": 4,
   "metadata": {},
   "outputs": [
    {
     "data": {
      "text/plain": [
       "(21613, 5)"
      ]
     },
     "execution_count": 4,
     "metadata": {},
     "output_type": "execute_result"
    }
   ],
   "source": [
    "price.shape"
   ]
  },
  {
   "cell_type": "code",
   "execution_count": 5,
   "metadata": {},
   "outputs": [
    {
     "data": {
      "text/plain": [
       "price            int64\n",
       "sqft_living      int64\n",
       "bedrooms         int64\n",
       "bathrooms      float64\n",
       "floors         float64\n",
       "dtype: object"
      ]
     },
     "execution_count": 5,
     "metadata": {},
     "output_type": "execute_result"
    }
   ],
   "source": [
    "price.dtypes"
   ]
  },
  {
   "cell_type": "code",
   "execution_count": 6,
   "metadata": {},
   "outputs": [
    {
     "data": {
      "text/plain": [
       "price          0\n",
       "sqft_living    0\n",
       "bedrooms       0\n",
       "bathrooms      0\n",
       "floors         0\n",
       "dtype: int64"
      ]
     },
     "execution_count": 6,
     "metadata": {},
     "output_type": "execute_result"
    }
   ],
   "source": [
    "price.isna().sum()"
   ]
  },
  {
   "cell_type": "code",
   "execution_count": 7,
   "metadata": {},
   "outputs": [
    {
     "data": {
      "text/html": [
       "<div>\n",
       "<style scoped>\n",
       "    .dataframe tbody tr th:only-of-type {\n",
       "        vertical-align: middle;\n",
       "    }\n",
       "\n",
       "    .dataframe tbody tr th {\n",
       "        vertical-align: top;\n",
       "    }\n",
       "\n",
       "    .dataframe thead th {\n",
       "        text-align: right;\n",
       "    }\n",
       "</style>\n",
       "<table border=\"1\" class=\"dataframe\">\n",
       "  <thead>\n",
       "    <tr style=\"text-align: right;\">\n",
       "      <th></th>\n",
       "      <th>count</th>\n",
       "      <th>mean</th>\n",
       "      <th>std</th>\n",
       "      <th>min</th>\n",
       "      <th>1%</th>\n",
       "      <th>5%</th>\n",
       "      <th>10%</th>\n",
       "      <th>25%</th>\n",
       "      <th>50%</th>\n",
       "      <th>75%</th>\n",
       "      <th>90%</th>\n",
       "      <th>99%</th>\n",
       "      <th>max</th>\n",
       "    </tr>\n",
       "  </thead>\n",
       "  <tbody>\n",
       "    <tr>\n",
       "      <th>price</th>\n",
       "      <td>21613.0</td>\n",
       "      <td>540088.141905</td>\n",
       "      <td>367127.195968</td>\n",
       "      <td>75000.0</td>\n",
       "      <td>153500.36</td>\n",
       "      <td>210000.0</td>\n",
       "      <td>245000.0</td>\n",
       "      <td>321950.00</td>\n",
       "      <td>450000.00</td>\n",
       "      <td>645000.0</td>\n",
       "      <td>887000.0</td>\n",
       "      <td>1964400.00</td>\n",
       "      <td>7700000.0</td>\n",
       "    </tr>\n",
       "    <tr>\n",
       "      <th>sqft_living</th>\n",
       "      <td>21613.0</td>\n",
       "      <td>2079.899736</td>\n",
       "      <td>918.440897</td>\n",
       "      <td>290.0</td>\n",
       "      <td>720.00</td>\n",
       "      <td>940.0</td>\n",
       "      <td>1090.0</td>\n",
       "      <td>1427.00</td>\n",
       "      <td>1910.00</td>\n",
       "      <td>2550.0</td>\n",
       "      <td>3250.0</td>\n",
       "      <td>4978.80</td>\n",
       "      <td>13540.0</td>\n",
       "    </tr>\n",
       "    <tr>\n",
       "      <th>bedrooms</th>\n",
       "      <td>21613.0</td>\n",
       "      <td>3.370842</td>\n",
       "      <td>0.930062</td>\n",
       "      <td>0.0</td>\n",
       "      <td>2.00</td>\n",
       "      <td>2.0</td>\n",
       "      <td>2.0</td>\n",
       "      <td>3.00</td>\n",
       "      <td>3.00</td>\n",
       "      <td>4.0</td>\n",
       "      <td>4.0</td>\n",
       "      <td>6.00</td>\n",
       "      <td>33.0</td>\n",
       "    </tr>\n",
       "    <tr>\n",
       "      <th>bathrooms</th>\n",
       "      <td>21613.0</td>\n",
       "      <td>2.114757</td>\n",
       "      <td>0.770163</td>\n",
       "      <td>0.0</td>\n",
       "      <td>1.00</td>\n",
       "      <td>1.0</td>\n",
       "      <td>1.0</td>\n",
       "      <td>1.75</td>\n",
       "      <td>2.25</td>\n",
       "      <td>2.5</td>\n",
       "      <td>3.0</td>\n",
       "      <td>4.25</td>\n",
       "      <td>8.0</td>\n",
       "    </tr>\n",
       "    <tr>\n",
       "      <th>floors</th>\n",
       "      <td>21613.0</td>\n",
       "      <td>1.494309</td>\n",
       "      <td>0.539989</td>\n",
       "      <td>1.0</td>\n",
       "      <td>1.00</td>\n",
       "      <td>1.0</td>\n",
       "      <td>1.0</td>\n",
       "      <td>1.00</td>\n",
       "      <td>1.50</td>\n",
       "      <td>2.0</td>\n",
       "      <td>2.0</td>\n",
       "      <td>3.00</td>\n",
       "      <td>3.5</td>\n",
       "    </tr>\n",
       "  </tbody>\n",
       "</table>\n",
       "</div>"
      ],
      "text/plain": [
       "               count           mean            std      min         1%  \\\n",
       "price        21613.0  540088.141905  367127.195968  75000.0  153500.36   \n",
       "sqft_living  21613.0    2079.899736     918.440897    290.0     720.00   \n",
       "bedrooms     21613.0       3.370842       0.930062      0.0       2.00   \n",
       "bathrooms    21613.0       2.114757       0.770163      0.0       1.00   \n",
       "floors       21613.0       1.494309       0.539989      1.0       1.00   \n",
       "\n",
       "                   5%       10%        25%        50%       75%       90%  \\\n",
       "price        210000.0  245000.0  321950.00  450000.00  645000.0  887000.0   \n",
       "sqft_living     940.0    1090.0    1427.00    1910.00    2550.0    3250.0   \n",
       "bedrooms          2.0       2.0       3.00       3.00       4.0       4.0   \n",
       "bathrooms         1.0       1.0       1.75       2.25       2.5       3.0   \n",
       "floors            1.0       1.0       1.00       1.50       2.0       2.0   \n",
       "\n",
       "                    99%        max  \n",
       "price        1964400.00  7700000.0  \n",
       "sqft_living     4978.80    13540.0  \n",
       "bedrooms           6.00       33.0  \n",
       "bathrooms          4.25        8.0  \n",
       "floors             3.00        3.5  "
      ]
     },
     "execution_count": 7,
     "metadata": {},
     "output_type": "execute_result"
    }
   ],
   "source": [
    "price.describe(percentiles=[0.01,0.05,0.1,0.25,0.5,0.75,0.9,0.99]).T"
   ]
  },
  {
   "cell_type": "code",
   "execution_count": 23,
   "metadata": {},
   "outputs": [],
   "source": [
    "# Ceil for floor and bathrooms(round off)\n",
    "price['bathrooms']=price['bathrooms'].apply(np.ceil)\n",
    "price['floors']=price['floors'].apply(np.ceil)"
   ]
  },
  {
   "cell_type": "code",
   "execution_count": 24,
   "metadata": {},
   "outputs": [
    {
     "data": {
      "text/html": [
       "<div>\n",
       "<style scoped>\n",
       "    .dataframe tbody tr th:only-of-type {\n",
       "        vertical-align: middle;\n",
       "    }\n",
       "\n",
       "    .dataframe tbody tr th {\n",
       "        vertical-align: top;\n",
       "    }\n",
       "\n",
       "    .dataframe thead th {\n",
       "        text-align: right;\n",
       "    }\n",
       "</style>\n",
       "<table border=\"1\" class=\"dataframe\">\n",
       "  <thead>\n",
       "    <tr style=\"text-align: right;\">\n",
       "      <th></th>\n",
       "      <th>price</th>\n",
       "      <th>sqft_living</th>\n",
       "      <th>bedrooms</th>\n",
       "      <th>bathrooms</th>\n",
       "      <th>floors</th>\n",
       "    </tr>\n",
       "  </thead>\n",
       "  <tbody>\n",
       "    <tr>\n",
       "      <th>209</th>\n",
       "      <td>464000</td>\n",
       "      <td>2300</td>\n",
       "      <td>6</td>\n",
       "      <td>3.0</td>\n",
       "      <td>2.0</td>\n",
       "    </tr>\n",
       "    <tr>\n",
       "      <th>232</th>\n",
       "      <td>315000</td>\n",
       "      <td>2940</td>\n",
       "      <td>6</td>\n",
       "      <td>3.0</td>\n",
       "      <td>1.0</td>\n",
       "    </tr>\n",
       "    <tr>\n",
       "      <th>239</th>\n",
       "      <td>472000</td>\n",
       "      <td>4410</td>\n",
       "      <td>6</td>\n",
       "      <td>3.0</td>\n",
       "      <td>1.0</td>\n",
       "    </tr>\n",
       "    <tr>\n",
       "      <th>331</th>\n",
       "      <td>279000</td>\n",
       "      <td>2240</td>\n",
       "      <td>6</td>\n",
       "      <td>2.0</td>\n",
       "      <td>2.0</td>\n",
       "    </tr>\n",
       "    <tr>\n",
       "      <th>486</th>\n",
       "      <td>1067000</td>\n",
       "      <td>4860</td>\n",
       "      <td>6</td>\n",
       "      <td>4.0</td>\n",
       "      <td>2.0</td>\n",
       "    </tr>\n",
       "    <tr>\n",
       "      <th>...</th>\n",
       "      <td>...</td>\n",
       "      <td>...</td>\n",
       "      <td>...</td>\n",
       "      <td>...</td>\n",
       "      <td>...</td>\n",
       "    </tr>\n",
       "    <tr>\n",
       "      <th>20984</th>\n",
       "      <td>343000</td>\n",
       "      <td>2732</td>\n",
       "      <td>6</td>\n",
       "      <td>5.0</td>\n",
       "      <td>2.0</td>\n",
       "    </tr>\n",
       "    <tr>\n",
       "      <th>21085</th>\n",
       "      <td>677790</td>\n",
       "      <td>2800</td>\n",
       "      <td>6</td>\n",
       "      <td>3.0</td>\n",
       "      <td>2.0</td>\n",
       "    </tr>\n",
       "    <tr>\n",
       "      <th>21186</th>\n",
       "      <td>303500</td>\n",
       "      <td>3390</td>\n",
       "      <td>6</td>\n",
       "      <td>5.0</td>\n",
       "      <td>2.0</td>\n",
       "    </tr>\n",
       "    <tr>\n",
       "      <th>21375</th>\n",
       "      <td>1174660</td>\n",
       "      <td>4310</td>\n",
       "      <td>6</td>\n",
       "      <td>4.0</td>\n",
       "      <td>2.0</td>\n",
       "    </tr>\n",
       "    <tr>\n",
       "      <th>21522</th>\n",
       "      <td>462500</td>\n",
       "      <td>2390</td>\n",
       "      <td>6</td>\n",
       "      <td>3.0</td>\n",
       "      <td>2.0</td>\n",
       "    </tr>\n",
       "  </tbody>\n",
       "</table>\n",
       "<p>334 rows × 5 columns</p>\n",
       "</div>"
      ],
      "text/plain": [
       "         price  sqft_living  bedrooms  bathrooms  floors\n",
       "209     464000         2300         6        3.0     2.0\n",
       "232     315000         2940         6        3.0     1.0\n",
       "239     472000         4410         6        3.0     1.0\n",
       "331     279000         2240         6        2.0     2.0\n",
       "486    1067000         4860         6        4.0     2.0\n",
       "...        ...          ...       ...        ...     ...\n",
       "20984   343000         2732         6        5.0     2.0\n",
       "21085   677790         2800         6        3.0     2.0\n",
       "21186   303500         3390         6        5.0     2.0\n",
       "21375  1174660         4310         6        4.0     2.0\n",
       "21522   462500         2390         6        3.0     2.0\n",
       "\n",
       "[334 rows x 5 columns]"
      ]
     },
     "execution_count": 24,
     "metadata": {},
     "output_type": "execute_result"
    }
   ],
   "source": [
    "price[price['bedrooms']==price['bedrooms'].max()]"
   ]
  },
  {
   "cell_type": "code",
   "execution_count": 14,
   "metadata": {},
   "outputs": [
    {
     "data": {
      "text/html": [
       "<div>\n",
       "<style scoped>\n",
       "    .dataframe tbody tr th:only-of-type {\n",
       "        vertical-align: middle;\n",
       "    }\n",
       "\n",
       "    .dataframe tbody tr th {\n",
       "        vertical-align: top;\n",
       "    }\n",
       "\n",
       "    .dataframe thead th {\n",
       "        text-align: right;\n",
       "    }\n",
       "</style>\n",
       "<table border=\"1\" class=\"dataframe\">\n",
       "  <thead>\n",
       "    <tr style=\"text-align: right;\">\n",
       "      <th></th>\n",
       "      <th>price</th>\n",
       "      <th>sqft_living</th>\n",
       "      <th>bedrooms</th>\n",
       "      <th>bathrooms</th>\n",
       "      <th>floors</th>\n",
       "    </tr>\n",
       "  </thead>\n",
       "  <tbody>\n",
       "    <tr>\n",
       "      <th>875</th>\n",
       "      <td>1095000</td>\n",
       "      <td>3064</td>\n",
       "      <td>0</td>\n",
       "      <td>0.00</td>\n",
       "      <td>3.5</td>\n",
       "    </tr>\n",
       "    <tr>\n",
       "      <th>3119</th>\n",
       "      <td>380000</td>\n",
       "      <td>1470</td>\n",
       "      <td>0</td>\n",
       "      <td>0.00</td>\n",
       "      <td>3.0</td>\n",
       "    </tr>\n",
       "    <tr>\n",
       "      <th>3467</th>\n",
       "      <td>288000</td>\n",
       "      <td>1430</td>\n",
       "      <td>0</td>\n",
       "      <td>1.50</td>\n",
       "      <td>3.0</td>\n",
       "    </tr>\n",
       "    <tr>\n",
       "      <th>4868</th>\n",
       "      <td>228000</td>\n",
       "      <td>390</td>\n",
       "      <td>0</td>\n",
       "      <td>1.00</td>\n",
       "      <td>1.0</td>\n",
       "    </tr>\n",
       "    <tr>\n",
       "      <th>6994</th>\n",
       "      <td>1295648</td>\n",
       "      <td>4810</td>\n",
       "      <td>0</td>\n",
       "      <td>0.00</td>\n",
       "      <td>2.0</td>\n",
       "    </tr>\n",
       "    <tr>\n",
       "      <th>8477</th>\n",
       "      <td>339950</td>\n",
       "      <td>2290</td>\n",
       "      <td>0</td>\n",
       "      <td>2.50</td>\n",
       "      <td>2.0</td>\n",
       "    </tr>\n",
       "    <tr>\n",
       "      <th>8484</th>\n",
       "      <td>240000</td>\n",
       "      <td>1810</td>\n",
       "      <td>0</td>\n",
       "      <td>2.50</td>\n",
       "      <td>2.0</td>\n",
       "    </tr>\n",
       "    <tr>\n",
       "      <th>9773</th>\n",
       "      <td>355000</td>\n",
       "      <td>2460</td>\n",
       "      <td>0</td>\n",
       "      <td>0.00</td>\n",
       "      <td>2.0</td>\n",
       "    </tr>\n",
       "    <tr>\n",
       "      <th>9854</th>\n",
       "      <td>235000</td>\n",
       "      <td>1470</td>\n",
       "      <td>0</td>\n",
       "      <td>0.00</td>\n",
       "      <td>2.0</td>\n",
       "    </tr>\n",
       "    <tr>\n",
       "      <th>12653</th>\n",
       "      <td>320000</td>\n",
       "      <td>1490</td>\n",
       "      <td>0</td>\n",
       "      <td>2.50</td>\n",
       "      <td>2.0</td>\n",
       "    </tr>\n",
       "    <tr>\n",
       "      <th>14423</th>\n",
       "      <td>139950</td>\n",
       "      <td>844</td>\n",
       "      <td>0</td>\n",
       "      <td>0.00</td>\n",
       "      <td>1.0</td>\n",
       "    </tr>\n",
       "    <tr>\n",
       "      <th>18379</th>\n",
       "      <td>265000</td>\n",
       "      <td>384</td>\n",
       "      <td>0</td>\n",
       "      <td>0.75</td>\n",
       "      <td>1.0</td>\n",
       "    </tr>\n",
       "    <tr>\n",
       "      <th>19452</th>\n",
       "      <td>142000</td>\n",
       "      <td>290</td>\n",
       "      <td>0</td>\n",
       "      <td>0.00</td>\n",
       "      <td>1.0</td>\n",
       "    </tr>\n",
       "  </tbody>\n",
       "</table>\n",
       "</div>"
      ],
      "text/plain": [
       "         price  sqft_living  bedrooms  bathrooms  floors\n",
       "875    1095000         3064         0       0.00     3.5\n",
       "3119    380000         1470         0       0.00     3.0\n",
       "3467    288000         1430         0       1.50     3.0\n",
       "4868    228000          390         0       1.00     1.0\n",
       "6994   1295648         4810         0       0.00     2.0\n",
       "8477    339950         2290         0       2.50     2.0\n",
       "8484    240000         1810         0       2.50     2.0\n",
       "9773    355000         2460         0       0.00     2.0\n",
       "9854    235000         1470         0       0.00     2.0\n",
       "12653   320000         1490         0       2.50     2.0\n",
       "14423   139950          844         0       0.00     1.0\n",
       "18379   265000          384         0       0.75     1.0\n",
       "19452   142000          290         0       0.00     1.0"
      ]
     },
     "execution_count": 14,
     "metadata": {},
     "output_type": "execute_result"
    }
   ],
   "source": [
    "price[price['bedrooms']==price['bedrooms'].min()]"
   ]
  },
  {
   "cell_type": "code",
   "execution_count": 29,
   "metadata": {},
   "outputs": [
    {
     "data": {
      "text/html": [
       "<div>\n",
       "<style scoped>\n",
       "    .dataframe tbody tr th:only-of-type {\n",
       "        vertical-align: middle;\n",
       "    }\n",
       "\n",
       "    .dataframe tbody tr th {\n",
       "        vertical-align: top;\n",
       "    }\n",
       "\n",
       "    .dataframe thead th {\n",
       "        text-align: right;\n",
       "    }\n",
       "</style>\n",
       "<table border=\"1\" class=\"dataframe\">\n",
       "  <thead>\n",
       "    <tr style=\"text-align: right;\">\n",
       "      <th></th>\n",
       "      <th>price</th>\n",
       "      <th>sqft_living</th>\n",
       "      <th>bedrooms</th>\n",
       "      <th>bathrooms</th>\n",
       "      <th>floors</th>\n",
       "    </tr>\n",
       "  </thead>\n",
       "  <tbody>\n",
       "    <tr>\n",
       "      <th>7252</th>\n",
       "      <td>7700000</td>\n",
       "      <td>12050</td>\n",
       "      <td>6</td>\n",
       "      <td>8.0</td>\n",
       "      <td>3.0</td>\n",
       "    </tr>\n",
       "    <tr>\n",
       "      <th>8546</th>\n",
       "      <td>450000</td>\n",
       "      <td>4050</td>\n",
       "      <td>6</td>\n",
       "      <td>8.0</td>\n",
       "      <td>2.0</td>\n",
       "    </tr>\n",
       "    <tr>\n",
       "      <th>9254</th>\n",
       "      <td>6885000</td>\n",
       "      <td>9890</td>\n",
       "      <td>6</td>\n",
       "      <td>8.0</td>\n",
       "      <td>2.0</td>\n",
       "    </tr>\n",
       "    <tr>\n",
       "      <th>12777</th>\n",
       "      <td>2280000</td>\n",
       "      <td>13540</td>\n",
       "      <td>6</td>\n",
       "      <td>8.0</td>\n",
       "      <td>3.0</td>\n",
       "    </tr>\n",
       "  </tbody>\n",
       "</table>\n",
       "</div>"
      ],
      "text/plain": [
       "         price  sqft_living  bedrooms  bathrooms  floors\n",
       "7252   7700000        12050         6        8.0     3.0\n",
       "8546    450000         4050         6        8.0     2.0\n",
       "9254   6885000         9890         6        8.0     2.0\n",
       "12777  2280000        13540         6        8.0     3.0"
      ]
     },
     "execution_count": 29,
     "metadata": {},
     "output_type": "execute_result"
    }
   ],
   "source": [
    "price[price['bathrooms']==price['bathrooms'].max()]"
   ]
  },
  {
   "cell_type": "code",
   "execution_count": 25,
   "metadata": {},
   "outputs": [],
   "source": [
    "# Outlier treatment for bedrooms\n",
    "percentiles = price['bedrooms'].quantile([0.01,0.99]).values\n",
    "price['bedrooms']= np.clip(price['bedrooms'], percentiles[0], percentiles[1])"
   ]
  },
  {
   "cell_type": "code",
   "execution_count": 33,
   "metadata": {},
   "outputs": [],
   "source": [
    "# outlier treatment for bathrooms\n",
    "percentiles = price['bathrooms'].quantile([0.01,1]).values\n",
    "price['bathrooms']= np.clip(price['bathrooms'], percentiles[0],percentiles[1])"
   ]
  },
  {
   "cell_type": "code",
   "execution_count": 34,
   "metadata": {},
   "outputs": [
    {
     "data": {
      "text/html": [
       "<div>\n",
       "<style scoped>\n",
       "    .dataframe tbody tr th:only-of-type {\n",
       "        vertical-align: middle;\n",
       "    }\n",
       "\n",
       "    .dataframe tbody tr th {\n",
       "        vertical-align: top;\n",
       "    }\n",
       "\n",
       "    .dataframe thead th {\n",
       "        text-align: right;\n",
       "    }\n",
       "</style>\n",
       "<table border=\"1\" class=\"dataframe\">\n",
       "  <thead>\n",
       "    <tr style=\"text-align: right;\">\n",
       "      <th></th>\n",
       "      <th>count</th>\n",
       "      <th>mean</th>\n",
       "      <th>std</th>\n",
       "      <th>min</th>\n",
       "      <th>1%</th>\n",
       "      <th>5%</th>\n",
       "      <th>10%</th>\n",
       "      <th>25%</th>\n",
       "      <th>50%</th>\n",
       "      <th>75%</th>\n",
       "      <th>90%</th>\n",
       "      <th>99%</th>\n",
       "      <th>99.9%</th>\n",
       "      <th>max</th>\n",
       "    </tr>\n",
       "  </thead>\n",
       "  <tbody>\n",
       "    <tr>\n",
       "      <th>price</th>\n",
       "      <td>21613.0</td>\n",
       "      <td>540088.141905</td>\n",
       "      <td>367127.195968</td>\n",
       "      <td>75000.0</td>\n",
       "      <td>153500.36</td>\n",
       "      <td>210000.0</td>\n",
       "      <td>245000.0</td>\n",
       "      <td>321950.0</td>\n",
       "      <td>450000.0</td>\n",
       "      <td>645000.0</td>\n",
       "      <td>887000.0</td>\n",
       "      <td>1964400.0</td>\n",
       "      <td>3476301.6</td>\n",
       "      <td>7700000.0</td>\n",
       "    </tr>\n",
       "    <tr>\n",
       "      <th>sqft_living</th>\n",
       "      <td>21613.0</td>\n",
       "      <td>2079.899736</td>\n",
       "      <td>918.440897</td>\n",
       "      <td>290.0</td>\n",
       "      <td>720.00</td>\n",
       "      <td>940.0</td>\n",
       "      <td>1090.0</td>\n",
       "      <td>1427.0</td>\n",
       "      <td>1910.0</td>\n",
       "      <td>2550.0</td>\n",
       "      <td>3250.0</td>\n",
       "      <td>4978.8</td>\n",
       "      <td>7289.4</td>\n",
       "      <td>13540.0</td>\n",
       "    </tr>\n",
       "    <tr>\n",
       "      <th>bedrooms</th>\n",
       "      <td>21613.0</td>\n",
       "      <td>3.375422</td>\n",
       "      <td>0.866261</td>\n",
       "      <td>2.0</td>\n",
       "      <td>2.00</td>\n",
       "      <td>2.0</td>\n",
       "      <td>2.0</td>\n",
       "      <td>3.0</td>\n",
       "      <td>3.0</td>\n",
       "      <td>4.0</td>\n",
       "      <td>4.0</td>\n",
       "      <td>6.0</td>\n",
       "      <td>6.0</td>\n",
       "      <td>6.0</td>\n",
       "    </tr>\n",
       "    <tr>\n",
       "      <th>bathrooms</th>\n",
       "      <td>21613.0</td>\n",
       "      <td>2.439735</td>\n",
       "      <td>0.922621</td>\n",
       "      <td>1.0</td>\n",
       "      <td>1.00</td>\n",
       "      <td>1.0</td>\n",
       "      <td>1.0</td>\n",
       "      <td>2.0</td>\n",
       "      <td>3.0</td>\n",
       "      <td>3.0</td>\n",
       "      <td>3.0</td>\n",
       "      <td>5.0</td>\n",
       "      <td>6.0</td>\n",
       "      <td>8.0</td>\n",
       "    </tr>\n",
       "    <tr>\n",
       "      <th>floors</th>\n",
       "      <td>21613.0</td>\n",
       "      <td>1.542405</td>\n",
       "      <td>0.567504</td>\n",
       "      <td>1.0</td>\n",
       "      <td>1.00</td>\n",
       "      <td>1.0</td>\n",
       "      <td>1.0</td>\n",
       "      <td>1.0</td>\n",
       "      <td>2.0</td>\n",
       "      <td>2.0</td>\n",
       "      <td>2.0</td>\n",
       "      <td>3.0</td>\n",
       "      <td>3.0</td>\n",
       "      <td>4.0</td>\n",
       "    </tr>\n",
       "  </tbody>\n",
       "</table>\n",
       "</div>"
      ],
      "text/plain": [
       "               count           mean            std      min         1%  \\\n",
       "price        21613.0  540088.141905  367127.195968  75000.0  153500.36   \n",
       "sqft_living  21613.0    2079.899736     918.440897    290.0     720.00   \n",
       "bedrooms     21613.0       3.375422       0.866261      2.0       2.00   \n",
       "bathrooms    21613.0       2.439735       0.922621      1.0       1.00   \n",
       "floors       21613.0       1.542405       0.567504      1.0       1.00   \n",
       "\n",
       "                   5%       10%       25%       50%       75%       90%  \\\n",
       "price        210000.0  245000.0  321950.0  450000.0  645000.0  887000.0   \n",
       "sqft_living     940.0    1090.0    1427.0    1910.0    2550.0    3250.0   \n",
       "bedrooms          2.0       2.0       3.0       3.0       4.0       4.0   \n",
       "bathrooms         1.0       1.0       2.0       3.0       3.0       3.0   \n",
       "floors            1.0       1.0       1.0       2.0       2.0       2.0   \n",
       "\n",
       "                   99%      99.9%        max  \n",
       "price        1964400.0  3476301.6  7700000.0  \n",
       "sqft_living     4978.8     7289.4    13540.0  \n",
       "bedrooms           6.0        6.0        6.0  \n",
       "bathrooms          5.0        6.0        8.0  \n",
       "floors             3.0        3.0        4.0  "
      ]
     },
     "execution_count": 34,
     "metadata": {},
     "output_type": "execute_result"
    }
   ],
   "source": [
    "price.describe(percentiles=[0.01,0.05,0.1,0.25,0.5,0.75,0.9,0.99,0.999]).T"
   ]
  },
  {
   "cell_type": "markdown",
   "metadata": {},
   "source": [
    "# Boxplots"
   ]
  },
  {
   "cell_type": "code",
   "execution_count": 9,
   "metadata": {},
   "outputs": [
    {
     "data": {
      "text/plain": [
       "{'whiskers': [<matplotlib.lines.Line2D at 0x1ab38d92630>,\n",
       "  <matplotlib.lines.Line2D at 0x1ab38d92ac8>],\n",
       " 'caps': [<matplotlib.lines.Line2D at 0x1ab38d92e80>,\n",
       "  <matplotlib.lines.Line2D at 0x1ab38e6d2e8>],\n",
       " 'boxes': [<matplotlib.lines.Line2D at 0x1ab38d924e0>],\n",
       " 'medians': [<matplotlib.lines.Line2D at 0x1ab38e6d710>],\n",
       " 'fliers': [<matplotlib.lines.Line2D at 0x1ab38e6db38>],\n",
       " 'means': []}"
      ]
     },
     "execution_count": 9,
     "metadata": {},
     "output_type": "execute_result"
    },
    {
     "data": {
      "image/png": "[encoded data removed]",
      "text/plain": [
       "<Figure size 432x288 with 1 Axes>"
      ]
     },
     "metadata": {},
     "output_type": "display_data"
    }
   ],
   "source": [
    "plt.boxplot(price['bedrooms'])"
   ]
  },
  {
   "cell_type": "code",
   "execution_count": 10,
   "metadata": {},
   "outputs": [
    {
     "data": {
      "text/plain": [
       "{'whiskers': [<matplotlib.lines.Line2D at 0x1ab39fe40b8>,\n",
       "  <matplotlib.lines.Line2D at 0x1ab39fe4550>],\n",
       " 'caps': [<matplotlib.lines.Line2D at 0x1ab39fe4978>,\n",
       "  <matplotlib.lines.Line2D at 0x1ab39fe4da0>],\n",
       " 'boxes': [<matplotlib.lines.Line2D at 0x1ab38b1af28>],\n",
       " 'medians': [<matplotlib.lines.Line2D at 0x1ab38bce208>],\n",
       " 'fliers': [<matplotlib.lines.Line2D at 0x1ab38bce630>],\n",
       " 'means': []}"
      ]
     },
     "execution_count": 10,
     "metadata": {},
     "output_type": "execute_result"
    },
    {
     "data": {
      "image/png": "[encoded data removed]",
      "text/plain": [
       "<Figure size 432x288 with 1 Axes>"
      ]
     },
     "metadata": {},
     "output_type": "display_data"
    }
   ],
   "source": [
    "plt.boxplot(price['bathrooms'])"
   ]
  },
  {
   "cell_type": "code",
   "execution_count": 11,
   "metadata": {},
   "outputs": [
    {
     "data": {
      "text/plain": [
       "{'whiskers': [<matplotlib.lines.Line2D at 0x1ab38ae4588>,\n",
       "  <matplotlib.lines.Line2D at 0x1ab38ae4a20>],\n",
       " 'caps': [<matplotlib.lines.Line2D at 0x1ab38ae4e48>,\n",
       "  <matplotlib.lines.Line2D at 0x1ab38ab32b0>],\n",
       " 'boxes': [<matplotlib.lines.Line2D at 0x1ab38ae4438>],\n",
       " 'medians': [<matplotlib.lines.Line2D at 0x1ab38ab36d8>],\n",
       " 'fliers': [<matplotlib.lines.Line2D at 0x1ab38ab3b00>],\n",
       " 'means': []}"
      ]
     },
     "execution_count": 11,
     "metadata": {},
     "output_type": "execute_result"
    },
    {
     "data": {
      "image/png": "[encoded data removed]",
      "text/plain": [
       "<Figure size 432x288 with 1 Axes>"
      ]
     },
     "metadata": {},
     "output_type": "display_data"
    }
   ],
   "source": [
    "plt.boxplot(price['sqft_living'])"
   ]
  },
  {
   "cell_type": "code",
   "execution_count": 12,
   "metadata": {},
   "outputs": [
    {
     "data": {
      "text/plain": [
       "{'whiskers': [<matplotlib.lines.Line2D at 0x1ab3a1cf470>,\n",
       "  <matplotlib.lines.Line2D at 0x1ab3a1cf908>],\n",
       " 'caps': [<matplotlib.lines.Line2D at 0x1ab3a1cfd30>,\n",
       "  <matplotlib.lines.Line2D at 0x1ab3a1d6198>],\n",
       " 'boxes': [<matplotlib.lines.Line2D at 0x1ab3a1cf320>],\n",
       " 'medians': [<matplotlib.lines.Line2D at 0x1ab3a1d65c0>],\n",
       " 'fliers': [<matplotlib.lines.Line2D at 0x1ab3a1d69e8>],\n",
       " 'means': []}"
      ]
     },
     "execution_count": 12,
     "metadata": {},
     "output_type": "execute_result"
    },
    {
     "data": {
      "image/png": "[encoded data removed]",
      "text/plain": [
       "<Figure size 432x288 with 1 Axes>"
      ]
     },
     "metadata": {},
     "output_type": "display_data"
    }
   ],
   "source": [
    "plt.boxplot(price['floors'])"
   ]
  },
  {
   "cell_type": "markdown",
   "metadata": {},
   "source": [
    "# Making new variables"
   ]
  },
  {
   "cell_type": "code",
   "execution_count": 40,
   "metadata": {},
   "outputs": [],
   "source": [
    "price['sqft_per_floor']=price['sqft_living']/price['floors']"
   ]
  },
  {
   "cell_type": "code",
   "execution_count": 41,
   "metadata": {},
   "outputs": [],
   "source": [
    "price['bed_per_floor']=price['bedrooms']/price['floors']\n",
    "price['bath_per_floor']=price['bathrooms']/price['floors']"
   ]
  },
  {
   "cell_type": "code",
   "execution_count": 42,
   "metadata": {},
   "outputs": [
    {
     "data": {
      "text/html": [
       "<div>\n",
       "<style scoped>\n",
       "    .dataframe tbody tr th:only-of-type {\n",
       "        vertical-align: middle;\n",
       "    }\n",
       "\n",
       "    .dataframe tbody tr th {\n",
       "        vertical-align: top;\n",
       "    }\n",
       "\n",
       "    .dataframe thead th {\n",
       "        text-align: right;\n",
       "    }\n",
       "</style>\n",
       "<table border=\"1\" class=\"dataframe\">\n",
       "  <thead>\n",
       "    <tr style=\"text-align: right;\">\n",
       "      <th></th>\n",
       "      <th>price</th>\n",
       "      <th>sqft_living</th>\n",
       "      <th>bedrooms</th>\n",
       "      <th>bathrooms</th>\n",
       "      <th>floors</th>\n",
       "      <th>sqft_per_floor</th>\n",
       "      <th>bed_per_floor</th>\n",
       "      <th>bath_per_floor</th>\n",
       "    </tr>\n",
       "  </thead>\n",
       "  <tbody>\n",
       "    <tr>\n",
       "      <th>0</th>\n",
       "      <td>221900</td>\n",
       "      <td>1180</td>\n",
       "      <td>3</td>\n",
       "      <td>1.0</td>\n",
       "      <td>1.0</td>\n",
       "      <td>1180.0</td>\n",
       "      <td>3.0</td>\n",
       "      <td>1.0</td>\n",
       "    </tr>\n",
       "    <tr>\n",
       "      <th>1</th>\n",
       "      <td>538000</td>\n",
       "      <td>2570</td>\n",
       "      <td>3</td>\n",
       "      <td>3.0</td>\n",
       "      <td>2.0</td>\n",
       "      <td>1285.0</td>\n",
       "      <td>1.5</td>\n",
       "      <td>1.5</td>\n",
       "    </tr>\n",
       "    <tr>\n",
       "      <th>2</th>\n",
       "      <td>180000</td>\n",
       "      <td>770</td>\n",
       "      <td>2</td>\n",
       "      <td>1.0</td>\n",
       "      <td>1.0</td>\n",
       "      <td>770.0</td>\n",
       "      <td>2.0</td>\n",
       "      <td>1.0</td>\n",
       "    </tr>\n",
       "    <tr>\n",
       "      <th>3</th>\n",
       "      <td>604000</td>\n",
       "      <td>1960</td>\n",
       "      <td>4</td>\n",
       "      <td>3.0</td>\n",
       "      <td>1.0</td>\n",
       "      <td>1960.0</td>\n",
       "      <td>4.0</td>\n",
       "      <td>3.0</td>\n",
       "    </tr>\n",
       "    <tr>\n",
       "      <th>4</th>\n",
       "      <td>510000</td>\n",
       "      <td>1680</td>\n",
       "      <td>3</td>\n",
       "      <td>2.0</td>\n",
       "      <td>1.0</td>\n",
       "      <td>1680.0</td>\n",
       "      <td>3.0</td>\n",
       "      <td>2.0</td>\n",
       "    </tr>\n",
       "  </tbody>\n",
       "</table>\n",
       "</div>"
      ],
      "text/plain": [
       "    price  sqft_living  bedrooms  bathrooms  floors  sqft_per_floor  \\\n",
       "0  221900         1180         3        1.0     1.0          1180.0   \n",
       "1  538000         2570         3        3.0     2.0          1285.0   \n",
       "2  180000          770         2        1.0     1.0           770.0   \n",
       "3  604000         1960         4        3.0     1.0          1960.0   \n",
       "4  510000         1680         3        2.0     1.0          1680.0   \n",
       "\n",
       "   bed_per_floor  bath_per_floor  \n",
       "0            3.0             1.0  \n",
       "1            1.5             1.5  \n",
       "2            2.0             1.0  \n",
       "3            4.0             3.0  \n",
       "4            3.0             2.0  "
      ]
     },
     "execution_count": 42,
     "metadata": {},
     "output_type": "execute_result"
    }
   ],
   "source": [
    "price.head()"
   ]
  },
  {
   "cell_type": "code",
   "execution_count": 43,
   "metadata": {},
   "outputs": [
    {
     "data": {
      "text/html": [
       "<div>\n",
       "<style scoped>\n",
       "    .dataframe tbody tr th:only-of-type {\n",
       "        vertical-align: middle;\n",
       "    }\n",
       "\n",
       "    .dataframe tbody tr th {\n",
       "        vertical-align: top;\n",
       "    }\n",
       "\n",
       "    .dataframe thead th {\n",
       "        text-align: right;\n",
       "    }\n",
       "</style>\n",
       "<table border=\"1\" class=\"dataframe\">\n",
       "  <thead>\n",
       "    <tr style=\"text-align: right;\">\n",
       "      <th></th>\n",
       "      <th>price</th>\n",
       "      <th>sqft_living</th>\n",
       "      <th>bedrooms</th>\n",
       "      <th>bathrooms</th>\n",
       "      <th>floors</th>\n",
       "      <th>sqft_per_floor</th>\n",
       "      <th>bed_per_floor</th>\n",
       "      <th>bath_per_floor</th>\n",
       "    </tr>\n",
       "  </thead>\n",
       "  <tbody>\n",
       "    <tr>\n",
       "      <th>price</th>\n",
       "      <td>1.000000</td>\n",
       "      <td>0.702035</td>\n",
       "      <td>0.317923</td>\n",
       "      <td>0.492256</td>\n",
       "      <td>0.258001</td>\n",
       "      <td>0.411372</td>\n",
       "      <td>-0.045660</td>\n",
       "      <td>0.214739</td>\n",
       "    </tr>\n",
       "    <tr>\n",
       "      <th>sqft_living</th>\n",
       "      <td>0.702035</td>\n",
       "      <td>1.000000</td>\n",
       "      <td>0.595504</td>\n",
       "      <td>0.727207</td>\n",
       "      <td>0.329975</td>\n",
       "      <td>0.633454</td>\n",
       "      <td>0.054185</td>\n",
       "      <td>0.370302</td>\n",
       "    </tr>\n",
       "    <tr>\n",
       "      <th>bedrooms</th>\n",
       "      <td>0.317923</td>\n",
       "      <td>0.595504</td>\n",
       "      <td>1.000000</td>\n",
       "      <td>0.501998</td>\n",
       "      <td>0.188800</td>\n",
       "      <td>0.412565</td>\n",
       "      <td>0.461981</td>\n",
       "      <td>0.325477</td>\n",
       "    </tr>\n",
       "    <tr>\n",
       "      <th>bathrooms</th>\n",
       "      <td>0.492256</td>\n",
       "      <td>0.727207</td>\n",
       "      <td>0.501998</td>\n",
       "      <td>1.000000</td>\n",
       "      <td>0.469517</td>\n",
       "      <td>0.334215</td>\n",
       "      <td>-0.084086</td>\n",
       "      <td>0.536178</td>\n",
       "    </tr>\n",
       "    <tr>\n",
       "      <th>floors</th>\n",
       "      <td>0.258001</td>\n",
       "      <td>0.329975</td>\n",
       "      <td>0.188800</td>\n",
       "      <td>0.469517</td>\n",
       "      <td>1.000000</td>\n",
       "      <td>-0.437335</td>\n",
       "      <td>-0.730479</td>\n",
       "      <td>-0.431549</td>\n",
       "    </tr>\n",
       "    <tr>\n",
       "      <th>sqft_per_floor</th>\n",
       "      <td>0.411372</td>\n",
       "      <td>0.633454</td>\n",
       "      <td>0.412565</td>\n",
       "      <td>0.334215</td>\n",
       "      <td>-0.437335</td>\n",
       "      <td>1.000000</td>\n",
       "      <td>0.672099</td>\n",
       "      <td>0.765962</td>\n",
       "    </tr>\n",
       "    <tr>\n",
       "      <th>bed_per_floor</th>\n",
       "      <td>-0.045660</td>\n",
       "      <td>0.054185</td>\n",
       "      <td>0.461981</td>\n",
       "      <td>-0.084086</td>\n",
       "      <td>-0.730479</td>\n",
       "      <td>0.672099</td>\n",
       "      <td>1.000000</td>\n",
       "      <td>0.635307</td>\n",
       "    </tr>\n",
       "    <tr>\n",
       "      <th>bath_per_floor</th>\n",
       "      <td>0.214739</td>\n",
       "      <td>0.370302</td>\n",
       "      <td>0.325477</td>\n",
       "      <td>0.536178</td>\n",
       "      <td>-0.431549</td>\n",
       "      <td>0.765962</td>\n",
       "      <td>0.635307</td>\n",
       "      <td>1.000000</td>\n",
       "    </tr>\n",
       "  </tbody>\n",
       "</table>\n",
       "</div>"
      ],
      "text/plain": [
       "                   price  sqft_living  bedrooms  bathrooms    floors  \\\n",
       "price           1.000000     0.702035  0.317923   0.492256  0.258001   \n",
       "sqft_living     0.702035     1.000000  0.595504   0.727207  0.329975   \n",
       "bedrooms        0.317923     0.595504  1.000000   0.501998  0.188800   \n",
       "bathrooms       0.492256     0.727207  0.501998   1.000000  0.469517   \n",
       "floors          0.258001     0.329975  0.188800   0.469517  1.000000   \n",
       "sqft_per_floor  0.411372     0.633454  0.412565   0.334215 -0.437335   \n",
       "bed_per_floor  -0.045660     0.054185  0.461981  -0.084086 -0.730479   \n",
       "bath_per_floor  0.214739     0.370302  0.325477   0.536178 -0.431549   \n",
       "\n",
       "                sqft_per_floor  bed_per_floor  bath_per_floor  \n",
       "price                 0.411372      -0.045660        0.214739  \n",
       "sqft_living           0.633454       0.054185        0.370302  \n",
       "bedrooms              0.412565       0.461981        0.325477  \n",
       "bathrooms             0.334215      -0.084086        0.536178  \n",
       "floors               -0.437335      -0.730479       -0.431549  \n",
       "sqft_per_floor        1.000000       0.672099        0.765962  \n",
       "bed_per_floor         0.672099       1.000000        0.635307  \n",
       "bath_per_floor        0.765962       0.635307        1.000000  "
      ]
     },
     "execution_count": 43,
     "metadata": {},
     "output_type": "execute_result"
    }
   ],
   "source": [
    "# Correlation\n",
    "price.corr()"
   ]
  },
  {
   "cell_type": "code",
   "execution_count": 44,
   "metadata": {},
   "outputs": [],
   "source": [
    "from sklearn.model_selection import train_test_split\n",
    "from sklearn.linear_model import LinearRegression\n",
    "import statsmodels.api as sm"
   ]
  },
  {
   "cell_type": "code",
   "execution_count": 57,
   "metadata": {},
   "outputs": [],
   "source": [
    "X=price.drop(['price','sqft_per_floor','bed_per_floor','bath_per_floor'],axis=1)\n",
    "Y=price['price']"
   ]
  },
  {
   "cell_type": "markdown",
   "metadata": {},
   "source": [
    "# OLS"
   ]
  },
  {
   "cell_type": "code",
   "execution_count": 59,
   "metadata": {},
   "outputs": [
    {
     "name": "stderr",
     "output_type": "stream",
     "text": [
      "C:\\ProgramData\\Anaconda3\\lib\\site-packages\\numpy\\core\\fromnumeric.py:52: FutureWarning: Method .ptp is deprecated and will be removed in a future version. Use numpy.ptp instead.\n",
      "  return getattr(obj, method)(*args, **kwds)\n"
     ]
    }
   ],
   "source": [
    "X1=sm.add_constant(X)"
   ]
  },
  {
   "cell_type": "code",
   "execution_count": 60,
   "metadata": {},
   "outputs": [],
   "source": [
    "lr=sm.OLS(Y,X1)"
   ]
  },
  {
   "cell_type": "code",
   "execution_count": 61,
   "metadata": {},
   "outputs": [],
   "source": [
    "result=lr.fit()"
   ]
  },
  {
   "cell_type": "code",
   "execution_count": 62,
   "metadata": {},
   "outputs": [
    {
     "data": {
      "text/html": [
       "<table class=\"simpletable\">\n",
       "<caption>OLS Regression Results</caption>\n",
       "<tr>\n",
       "  <th>Dep. Variable:</th>          <td>price</td>      <th>  R-squared:         </th>  <td>   0.510</td>  \n",
       "</tr>\n",
       "<tr>\n",
       "  <th>Model:</th>                   <td>OLS</td>       <th>  Adj. R-squared:    </th>  <td>   0.510</td>  \n",
       "</tr>\n",
       "<tr>\n",
       "  <th>Method:</th>             <td>Least Squares</td>  <th>  F-statistic:       </th>  <td>   5613.</td>  \n",
       "</tr>\n",
       "<tr>\n",
       "  <th>Date:</th>             <td>Thu, 06 Aug 2020</td> <th>  Prob (F-statistic):</th>   <td>  0.00</td>   \n",
       "</tr>\n",
       "<tr>\n",
       "  <th>Time:</th>                 <td>23:16:17</td>     <th>  Log-Likelihood:    </th> <td>-2.9990e+05</td>\n",
       "</tr>\n",
       "<tr>\n",
       "  <th>No. Observations:</th>      <td> 21613</td>      <th>  AIC:               </th>  <td>5.998e+05</td> \n",
       "</tr>\n",
       "<tr>\n",
       "  <th>Df Residuals:</th>          <td> 21608</td>      <th>  BIC:               </th>  <td>5.999e+05</td> \n",
       "</tr>\n",
       "<tr>\n",
       "  <th>Df Model:</th>              <td>     4</td>      <th>                     </th>      <td> </td>     \n",
       "</tr>\n",
       "<tr>\n",
       "  <th>Covariance Type:</th>      <td>nonrobust</td>    <th>                     </th>      <td> </td>     \n",
       "</tr>\n",
       "</table>\n",
       "<table class=\"simpletable\">\n",
       "<tr>\n",
       "       <td></td>          <th>coef</th>     <th>std err</th>      <th>t</th>      <th>P>|t|</th>  <th>[0.025</th>    <th>0.975]</th>  \n",
       "</tr>\n",
       "<tr>\n",
       "  <th>const</th>       <td> 8.349e+04</td> <td> 7974.445</td> <td>   10.470</td> <td> 0.000</td> <td> 6.79e+04</td> <td> 9.91e+04</td>\n",
       "</tr>\n",
       "<tr>\n",
       "  <th>sqft_living</th> <td>  321.7790</td> <td>    3.010</td> <td>  106.890</td> <td> 0.000</td> <td>  315.878</td> <td>  327.680</td>\n",
       "</tr>\n",
       "<tr>\n",
       "  <th>bedrooms</th>    <td>  -6.4e+04</td> <td> 2537.484</td> <td>  -25.221</td> <td> 0.000</td> <td> -6.9e+04</td> <td> -5.9e+04</td>\n",
       "</tr>\n",
       "<tr>\n",
       "  <th>bathrooms</th>   <td>-1.385e+04</td> <td> 2981.574</td> <td>   -4.647</td> <td> 0.000</td> <td>-1.97e+04</td> <td>-8010.330</td>\n",
       "</tr>\n",
       "<tr>\n",
       "  <th>floors</th>      <td> 2.408e+04</td> <td> 3497.216</td> <td>    6.887</td> <td> 0.000</td> <td> 1.72e+04</td> <td> 3.09e+04</td>\n",
       "</tr>\n",
       "</table>\n",
       "<table class=\"simpletable\">\n",
       "<tr>\n",
       "  <th>Omnibus:</th>       <td>14392.550</td> <th>  Durbin-Watson:     </th>  <td>   1.985</td> \n",
       "</tr>\n",
       "<tr>\n",
       "  <th>Prob(Omnibus):</th>  <td> 0.000</td>   <th>  Jarque-Bera (JB):  </th> <td>495965.308</td>\n",
       "</tr>\n",
       "<tr>\n",
       "  <th>Skew:</th>           <td> 2.720</td>   <th>  Prob(JB):          </th>  <td>    0.00</td> \n",
       "</tr>\n",
       "<tr>\n",
       "  <th>Kurtosis:</th>       <td>25.829</td>   <th>  Cond. No.          </th>  <td>1.08e+04</td> \n",
       "</tr>\n",
       "</table><br/><br/>Warnings:<br/>[1] Standard Errors assume that the covariance matrix of the errors is correctly specified.<br/>[2] The condition number is large, 1.08e+04. This might indicate that there are<br/>strong multicollinearity or other numerical problems."
      ],
      "text/plain": [
       "<class 'statsmodels.iolib.summary.Summary'>\n",
       "\"\"\"\n",
       "                            OLS Regression Results                            \n",
       "==============================================================================\n",
       "Dep. Variable:                  price   R-squared:                       0.510\n",
       "Model:                            OLS   Adj. R-squared:                  0.510\n",
       "Method:                 Least Squares   F-statistic:                     5613.\n",
       "Date:                Thu, 06 Aug 2020   Prob (F-statistic):               0.00\n",
       "Time:                        23:16:17   Log-Likelihood:            -2.9990e+05\n",
       "No. Observations:               21613   AIC:                         5.998e+05\n",
       "Df Residuals:                   21608   BIC:                         5.999e+05\n",
       "Df Model:                           4                                         \n",
       "Covariance Type:            nonrobust                                         \n",
       "===============================================================================\n",
       "                  coef    std err          t      P>|t|      [0.025      0.975]\n",
       "-------------------------------------------------------------------------------\n",
       "const        8.349e+04   7974.445     10.470      0.000    6.79e+04    9.91e+04\n",
       "sqft_living   321.7790      3.010    106.890      0.000     315.878     327.680\n",
       "bedrooms      -6.4e+04   2537.484    -25.221      0.000    -6.9e+04    -5.9e+04\n",
       "bathrooms   -1.385e+04   2981.574     -4.647      0.000   -1.97e+04   -8010.330\n",
       "floors       2.408e+04   3497.216      6.887      0.000    1.72e+04    3.09e+04\n",
       "==============================================================================\n",
       "Omnibus:                    14392.550   Durbin-Watson:                   1.985\n",
       "Prob(Omnibus):                  0.000   Jarque-Bera (JB):           495965.308\n",
       "Skew:                           2.720   Prob(JB):                         0.00\n",
       "Kurtosis:                      25.829   Cond. No.                     1.08e+04\n",
       "==============================================================================\n",
       "\n",
       "Warnings:\n",
       "[1] Standard Errors assume that the covariance matrix of the errors is correctly specified.\n",
       "[2] The condition number is large, 1.08e+04. This might indicate that there are\n",
       "strong multicollinearity or other numerical problems.\n",
       "\"\"\""
      ]
     },
     "execution_count": 62,
     "metadata": {},
     "output_type": "execute_result"
    }
   ],
   "source": [
    "result.summary()"
   ]
  },
  {
   "cell_type": "markdown",
   "metadata": {},
   "source": [
    "__From above summary we can conclude that all the 4 variables are significant for price prediction (as P value<0.05)__"
   ]
  },
  {
   "cell_type": "markdown",
   "metadata": {},
   "source": [
    "# Modelling"
   ]
  },
  {
   "cell_type": "code",
   "execution_count": 55,
   "metadata": {},
   "outputs": [],
   "source": [
    "from sklearn.metrics import mean_squared_error,r2_score"
   ]
  },
  {
   "cell_type": "code",
   "execution_count": 68,
   "metadata": {},
   "outputs": [],
   "source": [
    "X_train,X_test,Y_train,Y_test=train_test_split(X,Y,test_size=0.2,random_state=3)"
   ]
  },
  {
   "cell_type": "code",
   "execution_count": 69,
   "metadata": {},
   "outputs": [],
   "source": [
    "lin_reg=LinearRegression()"
   ]
  },
  {
   "cell_type": "code",
   "execution_count": 70,
   "metadata": {},
   "outputs": [
    {
     "data": {
      "text/plain": [
       "LinearRegression(copy_X=True, fit_intercept=True, n_jobs=1, normalize=False)"
      ]
     },
     "execution_count": 70,
     "metadata": {},
     "output_type": "execute_result"
    }
   ],
   "source": [
    "lin_reg.fit(X_train,Y_train)"
   ]
  },
  {
   "cell_type": "code",
   "execution_count": 71,
   "metadata": {},
   "outputs": [],
   "source": [
    "Y_pred=lin_reg.predict(X_test)"
   ]
  },
  {
   "cell_type": "code",
   "execution_count": 72,
   "metadata": {},
   "outputs": [
    {
     "name": "stdout",
     "output_type": "stream",
     "text": [
      "RMSE is:  250213.56536697282\n",
      "R2 value is:  0.5122578569699985\n"
     ]
    }
   ],
   "source": [
    "print('RMSE is: ',np.sqrt(mean_squared_error(Y_test,Y_pred)))\n",
    "print('R2 value is: ',r2_score(Y_test,Y_pred))"
   ]
  }
 ],
 "metadata": {
  "kernelspec": {
   "display_name": "Python 3",
   "language": "python",
   "name": "python3"
  },
  "language_info": {
   "codemirror_mode": {
    "name": "ipython",
    "version": 3
   },
   "file_extension": ".py",
   "mimetype": "text/x-python",
   "name": "python",
   "nbconvert_exporter": "python",
   "pygments_lexer": "ipython3",
   "version": "3.6.5"
  }
 },
 "nbformat": 4,
 "nbformat_minor": 2
}
