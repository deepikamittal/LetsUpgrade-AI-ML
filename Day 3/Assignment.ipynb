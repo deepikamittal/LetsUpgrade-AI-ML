{
 "cells": [
  {
   "cell_type": "markdown",
   "metadata": {},
   "source": [
    "__Question 1__: Subtraction of two complex numbers"
   ]
  },
  {
   "cell_type": "code",
   "execution_count": 1,
   "metadata": {},
   "outputs": [
    {
     "name": "stdout",
     "output_type": "stream",
     "text": [
      "Subtraction of a = (5+10j) and b = (2+15j) is (3-5j)\n"
     ]
    }
   ],
   "source": [
    "#Initializing two variables a and b\n",
    "a=5+10j\n",
    "b=2+15j\n",
    "# Subtracting a and b\n",
    "c=a-b\n",
    "print('Subtraction of a =',a, 'and b =',b, 'is',c)"
   ]
  },
  {
   "cell_type": "markdown",
   "metadata": {},
   "source": [
    "__Question 2__: Fourth root of a number"
   ]
  },
  {
   "cell_type": "code",
   "execution_count": 2,
   "metadata": {},
   "outputs": [
    {
     "name": "stdout",
     "output_type": "stream",
     "text": [
      "Fourth root of a= 70 is: 2.892507608519078\n"
     ]
    }
   ],
   "source": [
    "a=70\n",
    "print('Fourth root of a=',a,'is:',a**(1/4))"
   ]
  },
  {
   "cell_type": "markdown",
   "metadata": {},
   "source": [
    "__Question 3__: Swap two numbers using temporary variable"
   ]
  },
  {
   "cell_type": "code",
   "execution_count": 3,
   "metadata": {},
   "outputs": [
    {
     "name": "stdout",
     "output_type": "stream",
     "text": [
      "Before swap: Value of a= 10 and b= 15\n",
      "After swap: Value of a= 15 and b= 10\n"
     ]
    }
   ],
   "source": [
    "a=10\n",
    "b=15\n",
    "print('Before swap:','Value of a=',a,'and b=',b)\n",
    "temp=a\n",
    "a=b\n",
    "b=temp\n",
    "print('After swap:','Value of a=',a,'and b=',b)\n"
   ]
  },
  {
   "cell_type": "markdown",
   "metadata": {},
   "source": [
    "\n",
    "__Question 4__: Swap two numbers without using temporary variable"
   ]
  },
  {
   "cell_type": "code",
   "execution_count": 4,
   "metadata": {},
   "outputs": [
    {
     "name": "stdout",
     "output_type": "stream",
     "text": [
      "Before swap: Value of a= 20 and b= 36\n",
      "After swap: Value of a= 36 and b= 20\n"
     ]
    }
   ],
   "source": [
    "a=20\n",
    "b=36\n",
    "print('Before swap:','Value of a=',a,'and b=',b)\n",
    "a=a+b\n",
    "b=a-b\n",
    "a=a-b\n",
    "print('After swap:','Value of a=',a,'and b=',b)"
   ]
  },
  {
   "cell_type": "markdown",
   "metadata": {},
   "source": [
    "__Question 5__: Convert fahrenheit to kelvin and celsius both"
   ]
  },
  {
   "cell_type": "code",
   "execution_count": 5,
   "metadata": {},
   "outputs": [
    {
     "name": "stdout",
     "output_type": "stream",
     "text": [
      "240  fahrenheit is  115.55555555555556 degree celcius or 388.7055555555555 kelvin\n"
     ]
    }
   ],
   "source": [
    "F=240\n",
    "C=(F-32)*(5/9)\n",
    "K=C+273.15\n",
    "print(F,' fahrenheit is ',C,'degree celcius or',K, 'kelvin')"
   ]
  },
  {
   "cell_type": "markdown",
   "metadata": {},
   "source": [
    "__Question 6__: Demonstrate data types"
   ]
  },
  {
   "cell_type": "code",
   "execution_count": 6,
   "metadata": {},
   "outputs": [
    {
     "name": "stdout",
     "output_type": "stream",
     "text": [
      "Types are as follows:\n",
      "a: <class 'int'>\n",
      "b: <class 'float'>\n",
      "c: <class 'str'>\n",
      "d: <class 'complex'>\n",
      "e: <class 'list'>\n",
      "f: <class 'dict'>\n",
      "g: <class 'tuple'>\n"
     ]
    }
   ],
   "source": [
    "a=10\n",
    "b=28.56\n",
    "c='My name is Deepika'\n",
    "d=3+7j\n",
    "e=[1,2,3]\n",
    "f={'Physics':70,'Chemistry':79,'Maths':90}\n",
    "g=(10,20)\n",
    "print('Types are as follows:')\n",
    "print('a:' ,type(a))\n",
    "print('b:' ,type(b))\n",
    "print('c:' ,type(c))\n",
    "print('d:' ,type(d))\n",
    "print('e:' ,type(e))\n",
    "print('f:' ,type(f))\n",
    "print('g:' ,type(g))"
   ]
  },
  {
   "cell_type": "markdown",
   "metadata": {},
   "source": [
    "__Question 7__: Steps to create github profile and upload assignments"
   ]
  },
  {
   "cell_type": "markdown",
   "metadata": {},
   "source": [
    "Step 1: Signup on github.com <br>\n",
    "Step 2: Create a new repository by the name of LetsUpgrade-AI-ML <br>\n",
    "Step 3: Upload the jupyter notebook assignments in the github profile <br>\n",
    "Step 4: Copy the github assignment url and paste in submission form <br>\n"
   ]
  }
 ],
 "metadata": {
  "kernelspec": {
   "display_name": "Python 3",
   "language": "python",
   "name": "python3"
  },
  "language_info": {
   "codemirror_mode": {
    "name": "ipython",
    "version": 3
   },
   "file_extension": ".py",
   "mimetype": "text/x-python",
   "name": "python",
   "nbconvert_exporter": "python",
   "pygments_lexer": "ipython3",
   "version": "3.6.5"
  }
 },
 "nbformat": 4,
 "nbformat_minor": 2
}
