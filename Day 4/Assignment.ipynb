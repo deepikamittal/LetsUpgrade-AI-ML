{
 "cells": [
  {
   "cell_type": "markdown",
   "metadata": {},
   "source": [
    "__Question 1__: addition, subtraction, multiplication, division on complex numbers.<br>\n",
    "                floor division and modulo operations can not be performed on complex numbers"
   ]
  },
  {
   "cell_type": "code",
   "execution_count": 1,
   "metadata": {},
   "outputs": [
    {
     "name": "stdout",
     "output_type": "stream",
     "text": [
      "Addition of a= (3+5j) and b= (8+6j) : (11+11j)\n",
      "Subtraction of a= (3+5j) and b= (8+6j) : (-5-1j)\n",
      "Multiplication of a= (3+5j) and b= (8+6j) : (-6+58j)\n",
      "Division of a= (3+5j) and b= (8+6j) : (0.54+0.22j)\n"
     ]
    }
   ],
   "source": [
    "a=3+5j\n",
    "b=8+6j\n",
    "c=a+b\n",
    "d=a-b\n",
    "e=a*b\n",
    "f=a/b\n",
    "print('Addition of a=',a,'and b=',b,':',c)\n",
    "print('Subtraction of a=',a,'and b=',b,':',d)\n",
    "print('Multiplication of a=',a,'and b=',b,':',e)\n",
    "print('Division of a=',a,'and b=',b,':',f)"
   ]
  },
  {
   "cell_type": "markdown",
   "metadata": {},
   "source": [
    "__Question 2:__ Range function<br>\n",
    "Range function is used to help iterate an operation multiple times<br>\n",
    "You can iterate in Range function through numbers, through elements in a list etc.<br>\n",
    "\n",
    "Syntax: range(start,stop,step)<br>\n",
    "It has 3 parameters:<br>\n",
    "1. Start: Starting number of the iteration<br>\n",
    "2. Stop: Iterate upto (but not including) this number<br>\n",
    "3. Step: Difference between each number of the iteration<br>\n",
    "\n"
   ]
  },
  {
   "cell_type": "code",
   "execution_count": 2,
   "metadata": {},
   "outputs": [
    {
     "name": "stdout",
     "output_type": "stream",
     "text": [
      "1\n",
      "3\n",
      "5\n",
      "7\n",
      "9\n"
     ]
    }
   ],
   "source": [
    "for i in range(1,10,2):\n",
    "    print(i)"
   ]
  },
  {
   "cell_type": "code",
   "execution_count": 3,
   "metadata": {},
   "outputs": [
    {
     "name": "stdout",
     "output_type": "stream",
     "text": [
      "My\n",
      "name\n",
      "is\n",
      "Deepika\n",
      "Mittal\n"
     ]
    }
   ],
   "source": [
    "l=['My','name','is','Deepika','Mittal']\n",
    "for i in range(0,len(l)):\n",
    "    print(l[i])"
   ]
  },
  {
   "cell_type": "markdown",
   "metadata": {},
   "source": [
    "__Question 3:__"
   ]
  },
  {
   "cell_type": "code",
   "execution_count": 4,
   "metadata": {},
   "outputs": [
    {
     "name": "stdout",
     "output_type": "stream",
     "text": [
      "Division of a= 15 and b= 5 is 3.0\n"
     ]
    }
   ],
   "source": [
    "a=15\n",
    "b=5\n",
    "c=a-b\n",
    "if c>25:\n",
    "    print('Multiplication of a=',a,'and b=',b,'is',a*b)\n",
    "else:\n",
    "    print('Division of a=',a,'and b=',b,'is',a/b)"
   ]
  },
  {
   "cell_type": "markdown",
   "metadata": {},
   "source": [
    "__Question 4:__"
   ]
  },
  {
   "cell_type": "code",
   "execution_count": 5,
   "metadata": {},
   "outputs": [
    {
     "name": "stdout",
     "output_type": "stream",
     "text": [
      "2\n",
      "62\n",
      "98\n",
      "194\n",
      "322\n",
      "574\n"
     ]
    }
   ],
   "source": [
    "list1=[2,5,7,8,10,13,14,18,24,27]\n",
    "for i in list1:\n",
    "    if i%2==0:\n",
    "        print(i*i-2)"
   ]
  },
  {
   "cell_type": "markdown",
   "metadata": {},
   "source": [
    "__Question 5:__"
   ]
  },
  {
   "cell_type": "code",
   "execution_count": 6,
   "metadata": {},
   "outputs": [
    {
     "name": "stdout",
     "output_type": "stream",
     "text": [
      "28\n",
      "44\n",
      "56\n",
      "59\n",
      "67\n",
      "72\n",
      "81\n"
     ]
    }
   ],
   "source": [
    "list2=[8,11,14,28,44,56,59,67,72,81]\n",
    "for i in list2:\n",
    "    if (i/2)>7:\n",
    "        print(i)"
   ]
  }
 ],
 "metadata": {
  "kernelspec": {
   "display_name": "Python 3",
   "language": "python",
   "name": "python3"
  },
  "language_info": {
   "codemirror_mode": {
    "name": "ipython",
    "version": 3
   },
   "file_extension": ".py",
   "mimetype": "text/x-python",
   "name": "python",
   "nbconvert_exporter": "python",
   "pygments_lexer": "ipython3",
   "version": "3.6.5"
  }
 },
 "nbformat": 4,
 "nbformat_minor": 2
}
